{
  "cells": [
    {
      "metadata": {
        "_uuid": "8f2839f25d086af736a60e9eeb907d3b93b6e0e5",
        "_cell_guid": "b1076dfc-b9ad-4769-8c92-a6c4dae69d19",
        "trusted": true
      },
      "cell_type": "code",
      "source": "# This Python 3 environment comes with many helpful analytics libraries installed\n# It is defined by the kaggle/python docker image: https://github.com/kaggle/docker-python\n# For example, here's several helpful packages to load in \n\nimport numpy as np # linear algebra\nimport pandas as pd # data processing, CSV file I/O (e.g. pd.read_csv)\n\n# Input data files are available in the \"../input/\" directory.\n# For example, running this (by clicking run or pressing Shift+Enter) will list the files in the input directory\n\nimport os\nprint(os.listdir(\"../input\"))\n\n# Any results you write to the current directory are saved as output.",
      "execution_count": null,
      "outputs": []
    },
    {
      "metadata": {
        "_cell_guid": "79c7e3d0-c299-4dcb-8224-4455121ee9b0",
        "_uuid": "d629ff2d2480ee46fbb7e2d37f6b5fab8052498a",
        "trusted": true
      },
      "cell_type": "code",
      "source": "trainA=pd.read_csv(\"../input/train/AggregateData_Train.csv\")\ntestr=pd.read_csv(\"../input/testffguyfyuf/AggregateData_Test.csv\")",
      "execution_count": null,
      "outputs": []
    },
    {
      "metadata": {
        "trusted": true,
        "_uuid": "516561bcc5355b0ea095f66ce6e37ed7478a6486"
      },
      "cell_type": "code",
      "source": "y = trainA[\"bad_flag\"];\nX=trainA.drop(['bad_flag'], axis=1);",
      "execution_count": null,
      "outputs": []
    },
    {
      "metadata": {
        "trusted": true,
        "_uuid": "f211635a1be3a03240f5efed41c77e04557c46b7"
      },
      "cell_type": "code",
      "source": "def reffU(data): \n    data=data.replace('?', 0);\n    data.fillna('0', inplace=True)\n    #data.isnull().sum();\n    data.drop(['V1', 'V2'], inplace=True, axis=1)\n    return data;",
      "execution_count": null,
      "outputs": []
    },
    {
      "metadata": {
        "trusted": true,
        "_uuid": "3f9851ca5a8a38ad276447f4ba6efb61602e656a"
      },
      "cell_type": "code",
      "source": "from sklearn.preprocessing import MinMaxScaler\nfrom sklearn import preprocessing\ndef reff(data): \n    scaled_df= data.copy()\n    scaled_df1= data.copy()\n    col_names=['V3', 'V4', 'V5', 'V6', 'V7', 'V8', 'V9', 'V10', 'V11', 'V12',\n           'V13', 'V14', 'V15', 'V16', 'V17', 'V18', 'V19', 'V20', 'V21', 'V22',\n           'V23', 'V24', 'V25', 'V26', 'V27', 'V28', 'V29', 'V30', 'V31', 'V32',\n           'V33', 'V34', 'V35', 'V36', 'V37', 'V38', 'V39', 'V40', 'V41', 'V42',\n           'V43', 'V44', 'V45', 'V46', 'V47', 'V48', 'V49', 'V50', 'V51', 'V52',\n           'V53'];\n    features = scaled_df[col_names]\n    scaler = MinMaxScaler().fit(features.values)\n    features = scaler.transform(features.values)\n    scaled_df[col_names] = features; \n    scaled_df['UID']=scaled_df.UID.astype('category').cat.codes;\n    return scaled_df.astype(float);",
      "execution_count": null,
      "outputs": []
    },
    {
      "metadata": {
        "trusted": true,
        "_uuid": "3293f2abbb915a1fd1a2a970818ee921792fa5ec"
      },
      "cell_type": "code",
      "source": "from sklearn.preprocessing import MinMaxScaler\nfrom sklearn import preprocessing\ndef reff1(data): \n    scaled_df= data.copy()\n    scaled_df1= data.copy()\n    col_names=['V3', 'V4', 'V5', 'V6', 'V7', 'V8', 'V9', 'V10', 'V11', 'V12',\n           'V13', 'V14', 'V15', 'V16', 'V17', 'V18', 'V19', 'V20', 'V21', 'V22',\n           'V23', 'V24', 'V25', 'V26', 'V27', 'V28', 'V29', 'V30', 'V31', 'V32',\n           'V33', 'V34', 'V35', 'V36', 'V37', 'V38', 'V39', 'V40', 'V41', 'V42',\n           'V43', 'V44', 'V45', 'V46', 'V47', 'V48', 'V49', 'V50', 'V51', 'V52',\n           'V53'];\n    features = scaled_df[col_names]\n#     scaler = MinMaxScaler().fit(features.values)\n#     features = scaler.transform(features.values)\n#     scaled_df[col_names] = features; \n    scaled_df['UID']=scaled_df.UID.astype('category').cat.codes;\n    return scaled_df.astype(float);",
      "execution_count": null,
      "outputs": []
    },
    {
      "metadata": {
        "trusted": true,
        "_uuid": "0ba0dc5140f98ef96109333107ae2660c912d7ca"
      },
      "cell_type": "code",
      "source": "if __name__ == \"__main__\":\n    trainA = reffU(X) \n    testA= reffU(testr)\n    train = reff(trainA) \n    test = reff(testA)\n    trainB = reff1(trainA) \n    testB = reff1(testA)",
      "execution_count": null,
      "outputs": []
    },
    {
      "metadata": {
        "trusted": true,
        "_uuid": "8bfdd72e4184058668423a855cc6c6f22b1a5ce4"
      },
      "cell_type": "code",
      "source": "from sklearn.metrics import roc_auc_score\nimport xgboost as xgb\ngbm=xgb.XGBClassifier(\n                      max_depth=12,\n                      subsample=0.9,\n                      min_child_bytree=2000,\n                      learning_rate=0.0125,\n                      objective='gpu:binary:logistic', \n                      n_estimators=4000,\n                      seed=200).fit(trainB,y)\npredictions = gbm.predict_proba(testB);\ndf = pd.DataFrame(predictions, dtype='float')\ndf.drop([0], inplace=True, axis=1);\nPred1=score(test, df);\npred1",
      "execution_count": null,
      "outputs": []
    },
    {
      "metadata": {
        "trusted": true,
        "_uuid": "72aaaf4d09cb48f0658617f7ba52b24cd94d618f"
      },
      "cell_type": "code",
      "source": "# df = pd.DataFrame(predictions, dtype='float')\n# df.drop([0], inplace=True, axis=1);\n# pdtest = pd.DataFrame({'UID':testr.UID.astype(object)})\n# pdtest['bad_flag']=df\n# pdtest.to_csv('ggptest.csv', index=False);",
      "execution_count": null,
      "outputs": []
    },
    {
      "metadata": {
        "trusted": true,
        "_uuid": "abe8f0c078e48d123ad3cbd5a36e96e8a03058e3"
      },
      "cell_type": "code",
      "source": "",
      "execution_count": null,
      "outputs": []
    }
  ],
  "metadata": {
    "kernelspec": {
      "display_name": "Python 3",
      "language": "python",
      "name": "python3"
    },
    "language_info": {
      "name": "python",
      "version": "3.6.6",
      "mimetype": "text/x-python",
      "codemirror_mode": {
        "name": "ipython",
        "version": 3
      },
      "pygments_lexer": "ipython3",
      "nbconvert_exporter": "python",
      "file_extension": ".py"
    }
  },
  "nbformat": 4,
  "nbformat_minor": 1
}