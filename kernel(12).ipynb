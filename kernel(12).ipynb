{
  "cells": [
    {
      "metadata": {
        "_uuid": "8f2839f25d086af736a60e9eeb907d3b93b6e0e5",
        "_cell_guid": "b1076dfc-b9ad-4769-8c92-a6c4dae69d19",
        "trusted": true
      },
      "cell_type": "code",
      "source": "# This Python 3 environment comes with many helpful analytics libraries installed\n# It is defined by the kaggle/python docker image: https://github.com/kaggle/docker-python\n# For example, here's several helpful packages to load in \n\nimport numpy as np # linear algebra\nimport pandas as pd # data processing, CSV file I/O (e.g. pd.read_csv)\n\n# Input data files are available in the \"../input/\" directory.\n# For example, running this (by clicking run or pressing Shift+Enter) will list the files in the input directory\n\nimport os\nprint(os.listdir(\"../input\"))\n\n# Any results you write to the current directory are saved as output.",
      "execution_count": 366,
      "outputs": [
        {
          "output_type": "stream",
          "text": "['train', 'testffguyfyuf']\n",
          "name": "stdout"
        }
      ]
    },
    {
      "metadata": {
        "_cell_guid": "79c7e3d0-c299-4dcb-8224-4455121ee9b0",
        "_uuid": "d629ff2d2480ee46fbb7e2d37f6b5fab8052498a",
        "trusted": true
      },
      "cell_type": "code",
      "source": "\n\ntrainA=pd.read_csv(\"../input/train/AggregateData_Train.csv\")\ntestr=pd.read_csv(\"../input/testffguyfyuf/AggregateData_Test.csv\")\n\n",
      "execution_count": 396,
      "outputs": []
    },
    {
      "metadata": {
        "trusted": true,
        "_uuid": "f4b724403a841db6b2525d7fbb8bc05bc3906e70"
      },
      "cell_type": "code",
      "source": "import pandas as pd, numpy as np, time\nfrom sklearn.model_selection import train_test_split\nX_train,X_test, y_train, y_test = train_test_split(trainA.drop([\"bad_flag\"], axis=1), trainA[\"bad_flag\"],random_state=200,test_size=0.10)",
      "execution_count": 397,
      "outputs": []
    },
    {
      "metadata": {
        "trusted": true,
        "_uuid": "6868a010c66c6387bddd3e693432d08fe1e616e8"
      },
      "cell_type": "code",
      "source": "# y_train = trainA[\"bad_flag\"];\n# X=trainA.drop(['bad_flag'], axis=1);",
      "execution_count": 384,
      "outputs": []
    },
    {
      "metadata": {
        "trusted": true,
        "_uuid": "c7ab68cef85ef231d7a737cea9a7c89ca08bc417"
      },
      "cell_type": "code",
      "source": "def reffU(data): \n    data=data.replace('?', 0);\n    data.fillna('0', inplace=True)\n    #data.isnull().sum();\n    data.drop(['V1', 'V2'], inplace=True, axis=1)\n    return data;\nfrom sklearn.preprocessing import MinMaxScaler\nfrom sklearn import preprocessing\ndef reff(data): \n    scaled_df= data.copy()\n    scaled_df1= data.copy()\n    col_names=['V3', 'V4', 'V5', 'V6', 'V7', 'V8', 'V9', 'V10', 'V11', 'V12',\n           'V13', 'V14', 'V15', 'V16', 'V17', 'V18', 'V19', 'V20', 'V21', 'V22',\n           'V23', 'V24', 'V25', 'V26', 'V27', 'V28', 'V29', 'V30', 'V31', 'V32',\n           'V33', 'V34', 'V35', 'V36', 'V37', 'V38', 'V39', 'V40', 'V41', 'V42',\n           'V43', 'V44', 'V45', 'V46', 'V47', 'V48', 'V49', 'V50', 'V51', 'V52',\n           'V53'];\n    features = scaled_df[col_names]\n    scaler = MinMaxScaler().fit(features.values)\n    features = scaler.transform(features.values)\n    scaled_df[col_names] = features; \n    scaled_df['UID']=scaled_df.UID.astype('category').cat.codes;\n    return scaled_df.astype(float);\n\n\nfrom sklearn.preprocessing import MinMaxScaler\nfrom sklearn import preprocessing\ndef reff1(data): \n    scaled_df= data.copy()\n    scaled_df1= data.copy()\n    col_names=['V3', 'V4', 'V5', 'V6', 'V7', 'V8', 'V9', 'V10', 'V11', 'V12',\n           'V13', 'V14', 'V15', 'V16', 'V17', 'V18', 'V19', 'V20', 'V21', 'V22',\n           'V23', 'V24', 'V25', 'V26', 'V27', 'V28', 'V29', 'V30', 'V31', 'V32',\n           'V33', 'V34', 'V35', 'V36', 'V37', 'V38', 'V39', 'V40', 'V41', 'V42',\n           'V43', 'V44', 'V45', 'V46', 'V47', 'V48', 'V49', 'V50', 'V51', 'V52',\n           'V53'];\n    features = scaled_df[col_names]\n#     scaler = MinMaxScaler().fit(features.values)\n#     features = scaler.transform(features.values)\n#     scaled_df[col_names] = features; \n    scaled_df['UID']=scaled_df.UID.astype('category').cat.codes;\n    return scaled_df.astype(float);",
      "execution_count": 398,
      "outputs": []
    },
    {
      "metadata": {
        "trusted": true,
        "_uuid": "487cb6c342f17fd44e8b635419f3745fc56b93b8"
      },
      "cell_type": "code",
      "source": "\n\nif __name__ == \"__main__\":\n    trainA = reffU(X_train) \n    testA= reffU(X_test)\n    X_train = reff1(trainA) \n    X_test= reff1(testA)\n    testAA= reffU(testr)\n    testt= reff1(testAA)\n",
      "execution_count": 399,
      "outputs": []
    },
    {
      "metadata": {
        "trusted": true,
        "_uuid": "c8a439d0d0e00a61a61b1213f057934223e4080c"
      },
      "cell_type": "code",
      "source": "X_testt.head()",
      "execution_count": 387,
      "outputs": [
        {
          "output_type": "execute_result",
          "execution_count": 387,
          "data": {
            "text/plain": "          UID        V3         V4   V5   V6 ...   V49  V50  V51  V52  V53\n3411   1947.0      0.00  400868.90  0.0  0.0 ...   0.0  0.0  0.0  0.0  1.0\n25475  1713.0  35600.00     626.42  0.0  0.0 ...   0.0  0.0  0.0  0.0  1.0\n2115   1236.0  38039.64      28.50  0.0  0.0 ...   0.0  0.0  1.0  1.0  0.0\n12726   300.0  88232.52      15.25  0.0  0.0 ...   0.0  0.0  0.0  0.0  0.0\n810    2477.0      0.00      28.09  0.0  0.0 ...   0.0  2.0  1.0  4.0  7.0\n\n[5 rows x 52 columns]",
            "text/html": "<div>\n<style scoped>\n    .dataframe tbody tr th:only-of-type {\n        vertical-align: middle;\n    }\n\n    .dataframe tbody tr th {\n        vertical-align: top;\n    }\n\n    .dataframe thead th {\n        text-align: right;\n    }\n</style>\n<table border=\"1\" class=\"dataframe\">\n  <thead>\n    <tr style=\"text-align: right;\">\n      <th></th>\n      <th>UID</th>\n      <th>V3</th>\n      <th>V4</th>\n      <th>V5</th>\n      <th>V6</th>\n      <th>V7</th>\n      <th>V8</th>\n      <th>V9</th>\n      <th>V10</th>\n      <th>V11</th>\n      <th>V12</th>\n      <th>V13</th>\n      <th>V14</th>\n      <th>V15</th>\n      <th>V16</th>\n      <th>V17</th>\n      <th>V18</th>\n      <th>V19</th>\n      <th>V20</th>\n      <th>V21</th>\n      <th>V22</th>\n      <th>V23</th>\n      <th>V24</th>\n      <th>V25</th>\n      <th>V26</th>\n      <th>V27</th>\n      <th>V28</th>\n      <th>V29</th>\n      <th>V30</th>\n      <th>V31</th>\n      <th>V32</th>\n      <th>V33</th>\n      <th>V34</th>\n      <th>V35</th>\n      <th>V36</th>\n      <th>V37</th>\n      <th>V38</th>\n      <th>V39</th>\n      <th>V40</th>\n      <th>V41</th>\n      <th>V42</th>\n      <th>V43</th>\n      <th>V44</th>\n      <th>V45</th>\n      <th>V46</th>\n      <th>V47</th>\n      <th>V48</th>\n      <th>V49</th>\n      <th>V50</th>\n      <th>V51</th>\n      <th>V52</th>\n      <th>V53</th>\n    </tr>\n  </thead>\n  <tbody>\n    <tr>\n      <th>3411</th>\n      <td>1947.0</td>\n      <td>0.00</td>\n      <td>400868.90</td>\n      <td>0.0</td>\n      <td>0.0</td>\n      <td>0.0</td>\n      <td>0.0</td>\n      <td>0.0</td>\n      <td>0.0</td>\n      <td>0.0</td>\n      <td>0.0</td>\n      <td>0.0</td>\n      <td>0.0</td>\n      <td>0.0</td>\n      <td>1972780.88</td>\n      <td>8002066.64</td>\n      <td>0.0</td>\n      <td>0.0</td>\n      <td>17.0</td>\n      <td>0.0</td>\n      <td>0.0</td>\n      <td>0.0</td>\n      <td>0.0</td>\n      <td>0.0</td>\n      <td>0.0</td>\n      <td>0.0</td>\n      <td>0.0</td>\n      <td>0.0</td>\n      <td>0.0</td>\n      <td>0.0</td>\n      <td>24.0</td>\n      <td>70.0</td>\n      <td>0.0</td>\n      <td>0.0</td>\n      <td>0.0</td>\n      <td>0.0</td>\n      <td>0.0</td>\n      <td>0.0</td>\n      <td>0.0</td>\n      <td>0.00000</td>\n      <td>0.0</td>\n      <td>4.38159</td>\n      <td>0.00000</td>\n      <td>0.0</td>\n      <td>0.0</td>\n      <td>0.0</td>\n      <td>0.0</td>\n      <td>0.0</td>\n      <td>0.0</td>\n      <td>0.0</td>\n      <td>0.0</td>\n      <td>1.0</td>\n    </tr>\n    <tr>\n      <th>25475</th>\n      <td>1713.0</td>\n      <td>35600.00</td>\n      <td>626.42</td>\n      <td>0.0</td>\n      <td>0.0</td>\n      <td>0.0</td>\n      <td>0.0</td>\n      <td>0.0</td>\n      <td>0.0</td>\n      <td>0.0</td>\n      <td>0.0</td>\n      <td>0.0</td>\n      <td>0.0</td>\n      <td>0.0</td>\n      <td>371866.28</td>\n      <td>228874.00</td>\n      <td>0.0</td>\n      <td>7.0</td>\n      <td>8.0</td>\n      <td>0.0</td>\n      <td>0.0</td>\n      <td>0.0</td>\n      <td>0.0</td>\n      <td>0.0</td>\n      <td>0.0</td>\n      <td>0.0</td>\n      <td>0.0</td>\n      <td>0.0</td>\n      <td>0.0</td>\n      <td>0.0</td>\n      <td>27.0</td>\n      <td>11.0</td>\n      <td>0.0</td>\n      <td>0.0</td>\n      <td>0.0</td>\n      <td>0.0</td>\n      <td>0.0</td>\n      <td>0.0</td>\n      <td>0.0</td>\n      <td>0.00000</td>\n      <td>0.0</td>\n      <td>0.17894</td>\n      <td>0.00000</td>\n      <td>0.0</td>\n      <td>0.0</td>\n      <td>0.0</td>\n      <td>0.0</td>\n      <td>0.0</td>\n      <td>0.0</td>\n      <td>0.0</td>\n      <td>0.0</td>\n      <td>1.0</td>\n    </tr>\n    <tr>\n      <th>2115</th>\n      <td>1236.0</td>\n      <td>38039.64</td>\n      <td>28.50</td>\n      <td>0.0</td>\n      <td>0.0</td>\n      <td>645.6</td>\n      <td>0.0</td>\n      <td>0.0</td>\n      <td>0.0</td>\n      <td>0.0</td>\n      <td>0.0</td>\n      <td>0.0</td>\n      <td>0.0</td>\n      <td>0.0</td>\n      <td>2848108.62</td>\n      <td>2906748.42</td>\n      <td>0.0</td>\n      <td>7.0</td>\n      <td>1.0</td>\n      <td>0.0</td>\n      <td>0.0</td>\n      <td>1.0</td>\n      <td>0.0</td>\n      <td>0.0</td>\n      <td>0.0</td>\n      <td>0.0</td>\n      <td>0.0</td>\n      <td>0.0</td>\n      <td>0.0</td>\n      <td>0.0</td>\n      <td>19.0</td>\n      <td>37.0</td>\n      <td>0.0</td>\n      <td>0.0</td>\n      <td>0.0</td>\n      <td>0.0</td>\n      <td>0.0</td>\n      <td>0.0</td>\n      <td>0.0</td>\n      <td>0.00000</td>\n      <td>0.0</td>\n      <td>0.00097</td>\n      <td>0.02192</td>\n      <td>0.0</td>\n      <td>0.0</td>\n      <td>0.0</td>\n      <td>0.0</td>\n      <td>0.0</td>\n      <td>0.0</td>\n      <td>1.0</td>\n      <td>1.0</td>\n      <td>0.0</td>\n    </tr>\n    <tr>\n      <th>12726</th>\n      <td>300.0</td>\n      <td>88232.52</td>\n      <td>15.25</td>\n      <td>0.0</td>\n      <td>0.0</td>\n      <td>554.0</td>\n      <td>0.0</td>\n      <td>0.0</td>\n      <td>0.0</td>\n      <td>0.0</td>\n      <td>0.0</td>\n      <td>0.0</td>\n      <td>0.0</td>\n      <td>0.0</td>\n      <td>326481.00</td>\n      <td>247713.00</td>\n      <td>0.0</td>\n      <td>12.0</td>\n      <td>3.0</td>\n      <td>0.0</td>\n      <td>0.0</td>\n      <td>10.0</td>\n      <td>0.0</td>\n      <td>0.0</td>\n      <td>0.0</td>\n      <td>0.0</td>\n      <td>0.0</td>\n      <td>0.0</td>\n      <td>0.0</td>\n      <td>0.0</td>\n      <td>33.0</td>\n      <td>28.0</td>\n      <td>0.0</td>\n      <td>0.0</td>\n      <td>0.0</td>\n      <td>0.0</td>\n      <td>0.0</td>\n      <td>0.0</td>\n      <td>0.0</td>\n      <td>0.00000</td>\n      <td>0.0</td>\n      <td>0.00453</td>\n      <td>0.16463</td>\n      <td>0.0</td>\n      <td>0.0</td>\n      <td>0.0</td>\n      <td>0.0</td>\n      <td>0.0</td>\n      <td>0.0</td>\n      <td>0.0</td>\n      <td>0.0</td>\n      <td>0.0</td>\n    </tr>\n    <tr>\n      <th>810</th>\n      <td>2477.0</td>\n      <td>0.00</td>\n      <td>28.09</td>\n      <td>0.0</td>\n      <td>0.0</td>\n      <td>0.0</td>\n      <td>0.0</td>\n      <td>0.0</td>\n      <td>11423.5</td>\n      <td>42000.0</td>\n      <td>0.0</td>\n      <td>0.0</td>\n      <td>0.0</td>\n      <td>0.0</td>\n      <td>643316.08</td>\n      <td>627978.00</td>\n      <td>0.0</td>\n      <td>0.0</td>\n      <td>1.0</td>\n      <td>0.0</td>\n      <td>0.0</td>\n      <td>0.0</td>\n      <td>0.0</td>\n      <td>0.0</td>\n      <td>1.0</td>\n      <td>12.0</td>\n      <td>0.0</td>\n      <td>0.0</td>\n      <td>0.0</td>\n      <td>0.0</td>\n      <td>15.0</td>\n      <td>20.0</td>\n      <td>0.0</td>\n      <td>0.0</td>\n      <td>0.0</td>\n      <td>0.0</td>\n      <td>0.0</td>\n      <td>0.0</td>\n      <td>0.0</td>\n      <td>0.27199</td>\n      <td>0.0</td>\n      <td>0.00419</td>\n      <td>0.00000</td>\n      <td>0.0</td>\n      <td>0.0</td>\n      <td>0.0</td>\n      <td>0.0</td>\n      <td>0.0</td>\n      <td>2.0</td>\n      <td>1.0</td>\n      <td>4.0</td>\n      <td>7.0</td>\n    </tr>\n  </tbody>\n</table>\n</div>"
          },
          "metadata": {}
        }
      ]
    },
    {
      "metadata": {
        "_uuid": "0d8f392a807ce8d70422eb7d5814646e6b1bf776"
      },
      "cell_type": "markdown",
      "source": "**Model 1**"
    },
    {
      "metadata": {
        "trusted": true,
        "_uuid": "6eb412400c5c9f0b76a6526b65609812baae5121",
        "scrolled": false
      },
      "cell_type": "code",
      "source": "from sklearn.metrics import roc_auc_score\nimport xgboost as xgb\ngbm=xgb.XGBClassifier(\n                      max_depth=7,\n                      subsample=0.9,\n                      min_child_bytree=20,\n                      learning_rate=0.025,\n                      objective='gpu:binary:logistic', \n                      n_estimators=400,\n                      seed=200).fit(X_train,y_train)\npredictions = gbm.predict_proba(X_test);",
      "execution_count": null,
      "outputs": []
    },
    {
      "metadata": {
        "trusted": true,
        "_uuid": "586e712518037bdb4b609d362194a10609f81540"
      },
      "cell_type": "code",
      "source": "from sklearn import metrics\na=[];\nmetrics.roc_auc_score(y_test,gbm.predict_proba(X_test)[:,1])\ngbmp=gbm.predict_proba(X_test)[:,1];",
      "execution_count": null,
      "outputs": []
    },
    {
      "metadata": {
        "trusted": true,
        "_uuid": "e4597606e7b0e8e6b4bcb09797593acc90473e1f"
      },
      "cell_type": "code",
      "source": "a= pd.DataFrame({'gbm':gbmp.astype(float)})",
      "execution_count": null,
      "outputs": []
    },
    {
      "metadata": {
        "_uuid": "a4c82781628c8aed81354595859669042ac39d38"
      },
      "cell_type": "markdown",
      "source": "**Modele 2**"
    },
    {
      "metadata": {
        "trusted": true,
        "_uuid": "2a1d02fcee1b837d251f0e8adba12efbb24dd136"
      },
      "cell_type": "code",
      "source": "import lightgbm as lgb\nfrom sklearn import metrics\nd_train = lgb.Dataset(X_train, label=y_train)\nparams = {\"max_depth\": 7, \"learning_rate\" : 0.0125, \"num_leaves\": 800,  \"n_estimators\": 800}\nmodel2 = lgb.train(params, d_train)",
      "execution_count": null,
      "outputs": []
    },
    {
      "metadata": {
        "trusted": true,
        "_uuid": "7f19f6ccca1a3852f0d2e5f8a0a314b1482c2596"
      },
      "cell_type": "code",
      "source": "from sklearn import metrics\n#model2.predict(X_test);\nmetrics.roc_auc_score(y_test,model2.predict(X_test))",
      "execution_count": null,
      "outputs": []
    },
    {
      "metadata": {
        "trusted": true,
        "_uuid": "06e8bcf4b601234113d63c236df221d46804d825"
      },
      "cell_type": "code",
      "source": "pred=model2.predict(X_test);\na['lgb']=pred.astype(float)\na.head()",
      "execution_count": null,
      "outputs": []
    },
    {
      "metadata": {
        "trusted": true,
        "_uuid": "55ab357164e9f632f367f37a736bde99b48621c3"
      },
      "cell_type": "code",
      "source": "a.tail()",
      "execution_count": null,
      "outputs": []
    },
    {
      "metadata": {
        "_uuid": "5afbb603cd013ed87d7ba9cd8517701cb098ba16"
      },
      "cell_type": "markdown",
      "source": "**Model 3**"
    },
    {
      "metadata": {
        "trusted": true,
        "_uuid": "5e1e0d5e58a97b92f65ebe95f06fc0f07e68b28c"
      },
      "cell_type": "code",
      "source": "import catboost as cb\nclf = cb.CatBoostClassifier(eval_metric=\"AUC\", depth=7, iterations= 800, l2_leaf_reg= 9, learning_rate= 0.0125)\nclf.fit(X_train,y_train)",
      "execution_count": null,
      "outputs": []
    },
    {
      "metadata": {
        "trusted": true,
        "_uuid": "e3f0a2589fda03b8e4293df385b6096cd40e9afb"
      },
      "cell_type": "code",
      "source": "metrics.roc_auc_score(y_test,clf.predict_proba(X_test)[:,1])",
      "execution_count": null,
      "outputs": []
    },
    {
      "metadata": {
        "trusted": true,
        "_uuid": "f156e3d64d3b805ef88e8a32e9f499a482e2dcd5"
      },
      "cell_type": "code",
      "source": "pred=clf.predict_proba(X_test)[:,1];\na['cbd']=pred.astype(float)\na.head()",
      "execution_count": null,
      "outputs": []
    },
    {
      "metadata": {
        "_uuid": "05cc18de41ce2ecbf93a7c5f9b2788a39f9389e9"
      },
      "cell_type": "markdown",
      "source": "**Model 4**"
    },
    {
      "metadata": {
        "trusted": true,
        "scrolled": true,
        "_uuid": "72b4c575670c957ada74549aa6346122439b1c07"
      },
      "cell_type": "code",
      "source": "from sklearn.neighbors import KNeighborsClassifier\nneigh = KNeighborsClassifier(n_neighbors=1000)\nneigh.fit(X_train, y_train) \nmetrics.roc_auc_score(y_test,neigh.predict_proba(X_test)[:,1])",
      "execution_count": null,
      "outputs": []
    },
    {
      "metadata": {
        "trusted": true,
        "_uuid": "e501597206999d91674023ddb382139d85aa4397"
      },
      "cell_type": "code",
      "source": "pred=neigh.predict_proba(X_test)[:,1];\na['KNN']=pred.astype(float)\na.head()",
      "execution_count": null,
      "outputs": []
    },
    {
      "metadata": {
        "_uuid": "173db4b6a5617661a33e61876a6c5cca8190e367"
      },
      "cell_type": "markdown",
      "source": "**Model 5**"
    },
    {
      "metadata": {
        "trusted": true,
        "scrolled": false,
        "_uuid": "a799014ec1b60f6e20ac6941754d1a5580d15a29"
      },
      "cell_type": "code",
      "source": "import catboost as cb\nclf1 = cb.CatBoostClassifier(eval_metric=\"AUC\", depth=3, iterations= 500, l2_leaf_reg= 9, learning_rate= 0.05)\nclf1.fit(X_train,y_train)",
      "execution_count": null,
      "outputs": []
    },
    {
      "metadata": {
        "trusted": true,
        "scrolled": false,
        "_uuid": "da247e7bebc2827b4e418a3d7b3c5b77bd5ee953"
      },
      "cell_type": "code",
      "source": "a['cb3']=clf1.predict_proba(X_test)[:,1].astype(float)\na.head()",
      "execution_count": null,
      "outputs": []
    },
    {
      "metadata": {
        "_uuid": "5998c8b38dda387fabef452a400c8c0d08838301"
      },
      "cell_type": "markdown",
      "source": "**Model 6**"
    },
    {
      "metadata": {
        "trusted": true,
        "_uuid": "64ac9af14b388832657e3c47a3d51e461ca714c9"
      },
      "cell_type": "code",
      "source": "import catboost as cb\nclf2 = cb.CatBoostClassifier(eval_metric=\"AUC\", depth=5, iterations= 400, l2_leaf_reg= 9, learning_rate= 0.05)\nclf2.fit(X_train,y_train)",
      "execution_count": null,
      "outputs": []
    },
    {
      "metadata": {
        "trusted": true,
        "scrolled": true,
        "_uuid": "b53779a046775ba08f1e814edd9e8c96f704f472"
      },
      "cell_type": "code",
      "source": "a['cb5']=clf2.predict_proba(X_test)[:,1].astype(float)\na.head()",
      "execution_count": 324,
      "outputs": [
        {
          "output_type": "execute_result",
          "execution_count": 324,
          "data": {
            "text/plain": "        gbm       lgb       cbd    KNN       cb3       cb5\n0  0.119352  0.110980  0.170158  0.109  0.141729  0.184583\n1  0.064710  0.077921  0.091487  0.103  0.083117  0.075757\n2  0.072722  0.073317  0.075384  0.109  0.072617  0.072466\n3  0.054365  0.098893  0.063164  0.093  0.066715  0.067253\n4  0.029120  0.026746  0.059033  0.078  0.055379  0.052306",
            "text/html": "<div>\n<style scoped>\n    .dataframe tbody tr th:only-of-type {\n        vertical-align: middle;\n    }\n\n    .dataframe tbody tr th {\n        vertical-align: top;\n    }\n\n    .dataframe thead th {\n        text-align: right;\n    }\n</style>\n<table border=\"1\" class=\"dataframe\">\n  <thead>\n    <tr style=\"text-align: right;\">\n      <th></th>\n      <th>gbm</th>\n      <th>lgb</th>\n      <th>cbd</th>\n      <th>KNN</th>\n      <th>cb3</th>\n      <th>cb5</th>\n    </tr>\n  </thead>\n  <tbody>\n    <tr>\n      <th>0</th>\n      <td>0.119352</td>\n      <td>0.110980</td>\n      <td>0.170158</td>\n      <td>0.109</td>\n      <td>0.141729</td>\n      <td>0.184583</td>\n    </tr>\n    <tr>\n      <th>1</th>\n      <td>0.064710</td>\n      <td>0.077921</td>\n      <td>0.091487</td>\n      <td>0.103</td>\n      <td>0.083117</td>\n      <td>0.075757</td>\n    </tr>\n    <tr>\n      <th>2</th>\n      <td>0.072722</td>\n      <td>0.073317</td>\n      <td>0.075384</td>\n      <td>0.109</td>\n      <td>0.072617</td>\n      <td>0.072466</td>\n    </tr>\n    <tr>\n      <th>3</th>\n      <td>0.054365</td>\n      <td>0.098893</td>\n      <td>0.063164</td>\n      <td>0.093</td>\n      <td>0.066715</td>\n      <td>0.067253</td>\n    </tr>\n    <tr>\n      <th>4</th>\n      <td>0.029120</td>\n      <td>0.026746</td>\n      <td>0.059033</td>\n      <td>0.078</td>\n      <td>0.055379</td>\n      <td>0.052306</td>\n    </tr>\n  </tbody>\n</table>\n</div>"
          },
          "metadata": {}
        }
      ]
    },
    {
      "metadata": {
        "_uuid": "7d8607d68902a82b280f5bb1192dfdf608db79a5"
      },
      "cell_type": "markdown",
      "source": "**Model 7**"
    },
    {
      "metadata": {
        "trusted": true,
        "_uuid": "a8df0751720e42065b1e89082c1848fe614884cd"
      },
      "cell_type": "code",
      "source": "data=X_train.replace(0, -999);\ndata.fillna('-999', inplace=True)\ndataT=X_test.replace(0, -999);\ndataT.fillna('-999', inplace=True)",
      "execution_count": 325,
      "outputs": []
    },
    {
      "metadata": {
        "trusted": true,
        "_uuid": "44a5c51dffdc302442c63a3b4fdf3cc6a277f9d5"
      },
      "cell_type": "code",
      "source": "data.head()",
      "execution_count": 327,
      "outputs": [
        {
          "output_type": "execute_result",
          "execution_count": 327,
          "data": {
            "text/plain": "           UID       V3        V4       V5  ...      V50    V51    V52    V53\n17797   7817.0  60878.4   1865.18   -999.0  ...   -999.0 -999.0   17.0    8.0\n9198   23284.0   -999.0   2471.92   -999.0  ...   -999.0 -999.0 -999.0 -999.0\n21540  11549.0   -999.0   1439.34   -999.0  ...   -999.0 -999.0 -999.0 -999.0\n11801   1812.0   -999.0  18057.00  60167.0  ...      1.0 -999.0    1.0   17.0\n23248  13261.0   -999.0   2372.45   -999.0  ...      1.0    1.0 -999.0 -999.0\n\n[5 rows x 52 columns]",
            "text/html": "<div>\n<style scoped>\n    .dataframe tbody tr th:only-of-type {\n        vertical-align: middle;\n    }\n\n    .dataframe tbody tr th {\n        vertical-align: top;\n    }\n\n    .dataframe thead th {\n        text-align: right;\n    }\n</style>\n<table border=\"1\" class=\"dataframe\">\n  <thead>\n    <tr style=\"text-align: right;\">\n      <th></th>\n      <th>UID</th>\n      <th>V3</th>\n      <th>V4</th>\n      <th>V5</th>\n      <th>V6</th>\n      <th>V7</th>\n      <th>V8</th>\n      <th>V9</th>\n      <th>V10</th>\n      <th>V11</th>\n      <th>V12</th>\n      <th>V13</th>\n      <th>V14</th>\n      <th>V15</th>\n      <th>V16</th>\n      <th>V17</th>\n      <th>V18</th>\n      <th>V19</th>\n      <th>V20</th>\n      <th>V21</th>\n      <th>V22</th>\n      <th>V23</th>\n      <th>V24</th>\n      <th>V25</th>\n      <th>V26</th>\n      <th>V27</th>\n      <th>V28</th>\n      <th>V29</th>\n      <th>V30</th>\n      <th>V31</th>\n      <th>V32</th>\n      <th>V33</th>\n      <th>V34</th>\n      <th>V35</th>\n      <th>V36</th>\n      <th>V37</th>\n      <th>V38</th>\n      <th>V39</th>\n      <th>V40</th>\n      <th>V41</th>\n      <th>V42</th>\n      <th>V43</th>\n      <th>V44</th>\n      <th>V45</th>\n      <th>V46</th>\n      <th>V47</th>\n      <th>V48</th>\n      <th>V49</th>\n      <th>V50</th>\n      <th>V51</th>\n      <th>V52</th>\n      <th>V53</th>\n    </tr>\n  </thead>\n  <tbody>\n    <tr>\n      <th>17797</th>\n      <td>7817.0</td>\n      <td>60878.4</td>\n      <td>1865.18</td>\n      <td>-999.0</td>\n      <td>-999.0</td>\n      <td>-999.0</td>\n      <td>-999.0</td>\n      <td>-999.0</td>\n      <td>5360.27</td>\n      <td>-999.0</td>\n      <td>-999.0</td>\n      <td>-999.0</td>\n      <td>-999.0</td>\n      <td>-999.0</td>\n      <td>449830.51</td>\n      <td>370387.44</td>\n      <td>-999.0</td>\n      <td>32.0</td>\n      <td>19.0</td>\n      <td>-999.0</td>\n      <td>-999.0</td>\n      <td>-999.0</td>\n      <td>-999.0</td>\n      <td>-999.0</td>\n      <td>2.0</td>\n      <td>-999.0</td>\n      <td>-999.0</td>\n      <td>-999.0</td>\n      <td>-999.0</td>\n      <td>-999.0</td>\n      <td>37.0</td>\n      <td>36.0</td>\n      <td>-999.0</td>\n      <td>-999.0</td>\n      <td>-999.0</td>\n      <td>-999.0</td>\n      <td>-999.0</td>\n      <td>-999.0</td>\n      <td>-999.0</td>\n      <td>-999.0</td>\n      <td>-999.0</td>\n      <td>0.40083</td>\n      <td>-999.0</td>\n      <td>-999.0</td>\n      <td>-999.0</td>\n      <td>-999.0</td>\n      <td>-999.0</td>\n      <td>-999.0</td>\n      <td>-999.0</td>\n      <td>-999.0</td>\n      <td>17.0</td>\n      <td>8.0</td>\n    </tr>\n    <tr>\n      <th>9198</th>\n      <td>23284.0</td>\n      <td>-999.0</td>\n      <td>2471.92</td>\n      <td>-999.0</td>\n      <td>-999.0</td>\n      <td>-999.0</td>\n      <td>-999.0</td>\n      <td>-999.0</td>\n      <td>-999.00</td>\n      <td>-999.0</td>\n      <td>-999.0</td>\n      <td>-999.0</td>\n      <td>-999.0</td>\n      <td>-999.0</td>\n      <td>11425.72</td>\n      <td>21000.00</td>\n      <td>-999.0</td>\n      <td>-999.0</td>\n      <td>5.0</td>\n      <td>-999.0</td>\n      <td>-999.0</td>\n      <td>-999.0</td>\n      <td>-999.0</td>\n      <td>-999.0</td>\n      <td>-999.0</td>\n      <td>-999.0</td>\n      <td>-999.0</td>\n      <td>-999.0</td>\n      <td>-999.0</td>\n      <td>-999.0</td>\n      <td>5.0</td>\n      <td>6.0</td>\n      <td>-999.0</td>\n      <td>-999.0</td>\n      <td>-999.0</td>\n      <td>-999.0</td>\n      <td>-999.0</td>\n      <td>-999.0</td>\n      <td>-999.0</td>\n      <td>-999.0</td>\n      <td>-999.0</td>\n      <td>10.53139</td>\n      <td>-999.0</td>\n      <td>-999.0</td>\n      <td>-999.0</td>\n      <td>-999.0</td>\n      <td>-999.0</td>\n      <td>-999.0</td>\n      <td>-999.0</td>\n      <td>-999.0</td>\n      <td>-999.0</td>\n      <td>-999.0</td>\n    </tr>\n    <tr>\n      <th>21540</th>\n      <td>11549.0</td>\n      <td>-999.0</td>\n      <td>1439.34</td>\n      <td>-999.0</td>\n      <td>-999.0</td>\n      <td>-999.0</td>\n      <td>-999.0</td>\n      <td>-999.0</td>\n      <td>-999.00</td>\n      <td>-999.0</td>\n      <td>-999.0</td>\n      <td>-999.0</td>\n      <td>-999.0</td>\n      <td>-999.0</td>\n      <td>-999.00</td>\n      <td>-999.00</td>\n      <td>-999.0</td>\n      <td>-999.0</td>\n      <td>3.0</td>\n      <td>-999.0</td>\n      <td>-999.0</td>\n      <td>-999.0</td>\n      <td>-999.0</td>\n      <td>-999.0</td>\n      <td>-999.0</td>\n      <td>-999.0</td>\n      <td>-999.0</td>\n      <td>-999.0</td>\n      <td>-999.0</td>\n      <td>-999.0</td>\n      <td>-999.0</td>\n      <td>-999.0</td>\n      <td>-999.0</td>\n      <td>-999.0</td>\n      <td>-999.0</td>\n      <td>-999.0</td>\n      <td>-999.0</td>\n      <td>-999.0</td>\n      <td>-999.0</td>\n      <td>-999.0</td>\n      <td>-999.0</td>\n      <td>100.00000</td>\n      <td>-999.0</td>\n      <td>-999.0</td>\n      <td>-999.0</td>\n      <td>-999.0</td>\n      <td>-999.0</td>\n      <td>-999.0</td>\n      <td>-999.0</td>\n      <td>-999.0</td>\n      <td>-999.0</td>\n      <td>-999.0</td>\n    </tr>\n    <tr>\n      <th>11801</th>\n      <td>1812.0</td>\n      <td>-999.0</td>\n      <td>18057.00</td>\n      <td>60167.0</td>\n      <td>-999.0</td>\n      <td>-999.0</td>\n      <td>-999.0</td>\n      <td>-999.0</td>\n      <td>-999.00</td>\n      <td>-999.0</td>\n      <td>-999.0</td>\n      <td>-999.0</td>\n      <td>-999.0</td>\n      <td>-999.0</td>\n      <td>1153912.00</td>\n      <td>1208890.00</td>\n      <td>-999.0</td>\n      <td>-999.0</td>\n      <td>2.0</td>\n      <td>1.0</td>\n      <td>-999.0</td>\n      <td>-999.0</td>\n      <td>-999.0</td>\n      <td>-999.0</td>\n      <td>-999.0</td>\n      <td>-999.0</td>\n      <td>-999.0</td>\n      <td>-999.0</td>\n      <td>-999.0</td>\n      <td>-999.0</td>\n      <td>41.0</td>\n      <td>69.0</td>\n      <td>-999.0</td>\n      <td>-999.0</td>\n      <td>-999.0</td>\n      <td>-999.0</td>\n      <td>-999.0</td>\n      <td>-999.0</td>\n      <td>-999.0</td>\n      <td>-999.0</td>\n      <td>-999.0</td>\n      <td>1.47170</td>\n      <td>-999.0</td>\n      <td>-999.0</td>\n      <td>-999.0</td>\n      <td>-999.0</td>\n      <td>-999.0</td>\n      <td>-999.0</td>\n      <td>1.0</td>\n      <td>-999.0</td>\n      <td>1.0</td>\n      <td>17.0</td>\n    </tr>\n    <tr>\n      <th>23248</th>\n      <td>13261.0</td>\n      <td>-999.0</td>\n      <td>2372.45</td>\n      <td>-999.0</td>\n      <td>-999.0</td>\n      <td>-999.0</td>\n      <td>-999.0</td>\n      <td>-999.0</td>\n      <td>-999.00</td>\n      <td>4000.0</td>\n      <td>-999.0</td>\n      <td>-999.0</td>\n      <td>-999.0</td>\n      <td>-999.0</td>\n      <td>155000.00</td>\n      <td>122500.00</td>\n      <td>-999.0</td>\n      <td>-999.0</td>\n      <td>10.0</td>\n      <td>-999.0</td>\n      <td>-999.0</td>\n      <td>-999.0</td>\n      <td>-999.0</td>\n      <td>-999.0</td>\n      <td>-999.0</td>\n      <td>4.0</td>\n      <td>-999.0</td>\n      <td>-999.0</td>\n      <td>-999.0</td>\n      <td>-999.0</td>\n      <td>5.0</td>\n      <td>17.0</td>\n      <td>-999.0</td>\n      <td>-999.0</td>\n      <td>-999.0</td>\n      <td>-999.0</td>\n      <td>-999.0</td>\n      <td>-999.0</td>\n      <td>-999.0</td>\n      <td>-999.0</td>\n      <td>-999.0</td>\n      <td>1.43780</td>\n      <td>-999.0</td>\n      <td>-999.0</td>\n      <td>-999.0</td>\n      <td>-999.0</td>\n      <td>-999.0</td>\n      <td>-999.0</td>\n      <td>1.0</td>\n      <td>1.0</td>\n      <td>-999.0</td>\n      <td>-999.0</td>\n    </tr>\n  </tbody>\n</table>\n</div>"
          },
          "metadata": {}
        }
      ]
    },
    {
      "metadata": {
        "trusted": true,
        "_uuid": "c6264075f22b467ad335f90ab790799265463d34"
      },
      "cell_type": "code",
      "source": "from sklearn.metrics import roc_auc_score\nimport xgboost as xgb\ngbm=xgb.XGBClassifier(\n                      max_depth=7,\n                      subsample=0.9,\n                      min_child_bytree=2000,\n                      learning_rate=0.0125,\n                      objective='gpu:binary:logistic', \n                      n_estimators=4000,\n                      seed=200).fit(data,y_train)\npredictions = gbm.predict_proba(dataT);",
      "execution_count": 330,
      "outputs": []
    },
    {
      "metadata": {
        "trusted": true,
        "_uuid": "78d7e208468a3ad2c0b304471ab199b4c8cdf93a"
      },
      "cell_type": "code",
      "source": "metrics.roc_auc_score(y_test,gbm.predict_proba(dataT)[:,1])\na['xgb7']=gbm.predict_proba(dataT)[:,1].astype(float)\na.head()",
      "execution_count": 334,
      "outputs": [
        {
          "output_type": "execute_result",
          "execution_count": 334,
          "data": {
            "text/plain": "        gbm       lgb       cbd    KNN       cb3       cb5      xgb7\n0  0.119352  0.110980  0.170158  0.109  0.141729  0.184583  0.041683\n1  0.064710  0.077921  0.091487  0.103  0.083117  0.075757  0.049462\n2  0.072722  0.073317  0.075384  0.109  0.072617  0.072466  0.068520\n3  0.054365  0.098893  0.063164  0.093  0.066715  0.067253  0.028723\n4  0.029120  0.026746  0.059033  0.078  0.055379  0.052306  0.005978",
            "text/html": "<div>\n<style scoped>\n    .dataframe tbody tr th:only-of-type {\n        vertical-align: middle;\n    }\n\n    .dataframe tbody tr th {\n        vertical-align: top;\n    }\n\n    .dataframe thead th {\n        text-align: right;\n    }\n</style>\n<table border=\"1\" class=\"dataframe\">\n  <thead>\n    <tr style=\"text-align: right;\">\n      <th></th>\n      <th>gbm</th>\n      <th>lgb</th>\n      <th>cbd</th>\n      <th>KNN</th>\n      <th>cb3</th>\n      <th>cb5</th>\n      <th>xgb7</th>\n    </tr>\n  </thead>\n  <tbody>\n    <tr>\n      <th>0</th>\n      <td>0.119352</td>\n      <td>0.110980</td>\n      <td>0.170158</td>\n      <td>0.109</td>\n      <td>0.141729</td>\n      <td>0.184583</td>\n      <td>0.041683</td>\n    </tr>\n    <tr>\n      <th>1</th>\n      <td>0.064710</td>\n      <td>0.077921</td>\n      <td>0.091487</td>\n      <td>0.103</td>\n      <td>0.083117</td>\n      <td>0.075757</td>\n      <td>0.049462</td>\n    </tr>\n    <tr>\n      <th>2</th>\n      <td>0.072722</td>\n      <td>0.073317</td>\n      <td>0.075384</td>\n      <td>0.109</td>\n      <td>0.072617</td>\n      <td>0.072466</td>\n      <td>0.068520</td>\n    </tr>\n    <tr>\n      <th>3</th>\n      <td>0.054365</td>\n      <td>0.098893</td>\n      <td>0.063164</td>\n      <td>0.093</td>\n      <td>0.066715</td>\n      <td>0.067253</td>\n      <td>0.028723</td>\n    </tr>\n    <tr>\n      <th>4</th>\n      <td>0.029120</td>\n      <td>0.026746</td>\n      <td>0.059033</td>\n      <td>0.078</td>\n      <td>0.055379</td>\n      <td>0.052306</td>\n      <td>0.005978</td>\n    </tr>\n  </tbody>\n</table>\n</div>"
          },
          "metadata": {}
        }
      ]
    },
    {
      "metadata": {
        "_uuid": "1c8110813dcf8dca5eedfffaf068f69dfbc220c1"
      },
      "cell_type": "markdown",
      "source": "**Model 8**"
    },
    {
      "metadata": {
        "trusted": true,
        "_uuid": "851481d68a11c72478f25937f337d9338f6cea5d"
      },
      "cell_type": "code",
      "source": "t=pd.read_csv(\"../input/train/AggregateData_Train.csv\")\nt.drop(['V1', 'V2'], inplace=True, axis=1)\nt['UID']=t.UID.astype('category').cat.codes;\nt=t.replace('?','NaN');\nt= t.astype('float')\nX_trainT,X_testT, y_trainT, y_testT = train_test_split(t.drop([\"bad_flag\"], axis=1), t[\"bad_flag\"],random_state=200,test_size=0.10)",
      "execution_count": 354,
      "outputs": []
    },
    {
      "metadata": {
        "trusted": true,
        "_uuid": "2fe8fb9bccd89f4364bbbffddfb42147fe8c797c"
      },
      "cell_type": "code",
      "source": "from sklearn.metrics import roc_auc_score\nimport xgboost as xgb\ngbm=xgb.XGBClassifier(\n                      max_depth=7,\n                      subsample=0.9,\n                      min_child_bytree=2000,\n                      learning_rate=0.0125,\n                      objective='gpu:binary:logistic', \n                      n_estimators=4000,\n                      seed=200).fit(X_trainT,y_trainT)\npredictions = gbm.predict_proba(X_testT);",
      "execution_count": 356,
      "outputs": []
    },
    {
      "metadata": {
        "trusted": true,
        "_uuid": "1af376c002f05846f3795e0714e65d617a532e5e"
      },
      "cell_type": "code",
      "source": "metrics.roc_auc_score(y_testT,gbm.predict_proba(X_testT)[:,1])",
      "execution_count": 357,
      "outputs": [
        {
          "output_type": "execute_result",
          "execution_count": 357,
          "data": {
            "text/plain": "0.6129616145111829"
          },
          "metadata": {}
        }
      ]
    },
    {
      "metadata": {
        "trusted": true,
        "_uuid": "15f4d04b199f8afdb945d6aa64ba97757a91a250"
      },
      "cell_type": "code",
      "source": "a['xgb_nan']=gbm.predict_proba(X_testT)[:,1].astype(float)\na.head()",
      "execution_count": 358,
      "outputs": [
        {
          "output_type": "execute_result",
          "execution_count": 358,
          "data": {
            "text/plain": "        gbm       lgb       cbd    ...          cb5      xgb7   xgb_nan\n0  0.119352  0.110980  0.170158    ...     0.184583  0.041683  0.078044\n1  0.064710  0.077921  0.091487    ...     0.075757  0.049462  0.045164\n2  0.072722  0.073317  0.075384    ...     0.072466  0.068520  0.063324\n3  0.054365  0.098893  0.063164    ...     0.067253  0.028723  0.024066\n4  0.029120  0.026746  0.059033    ...     0.052306  0.005978  0.003632\n\n[5 rows x 8 columns]",
            "text/html": "<div>\n<style scoped>\n    .dataframe tbody tr th:only-of-type {\n        vertical-align: middle;\n    }\n\n    .dataframe tbody tr th {\n        vertical-align: top;\n    }\n\n    .dataframe thead th {\n        text-align: right;\n    }\n</style>\n<table border=\"1\" class=\"dataframe\">\n  <thead>\n    <tr style=\"text-align: right;\">\n      <th></th>\n      <th>gbm</th>\n      <th>lgb</th>\n      <th>cbd</th>\n      <th>KNN</th>\n      <th>cb3</th>\n      <th>cb5</th>\n      <th>xgb7</th>\n      <th>xgb_nan</th>\n    </tr>\n  </thead>\n  <tbody>\n    <tr>\n      <th>0</th>\n      <td>0.119352</td>\n      <td>0.110980</td>\n      <td>0.170158</td>\n      <td>0.109</td>\n      <td>0.141729</td>\n      <td>0.184583</td>\n      <td>0.041683</td>\n      <td>0.078044</td>\n    </tr>\n    <tr>\n      <th>1</th>\n      <td>0.064710</td>\n      <td>0.077921</td>\n      <td>0.091487</td>\n      <td>0.103</td>\n      <td>0.083117</td>\n      <td>0.075757</td>\n      <td>0.049462</td>\n      <td>0.045164</td>\n    </tr>\n    <tr>\n      <th>2</th>\n      <td>0.072722</td>\n      <td>0.073317</td>\n      <td>0.075384</td>\n      <td>0.109</td>\n      <td>0.072617</td>\n      <td>0.072466</td>\n      <td>0.068520</td>\n      <td>0.063324</td>\n    </tr>\n    <tr>\n      <th>3</th>\n      <td>0.054365</td>\n      <td>0.098893</td>\n      <td>0.063164</td>\n      <td>0.093</td>\n      <td>0.066715</td>\n      <td>0.067253</td>\n      <td>0.028723</td>\n      <td>0.024066</td>\n    </tr>\n    <tr>\n      <th>4</th>\n      <td>0.029120</td>\n      <td>0.026746</td>\n      <td>0.059033</td>\n      <td>0.078</td>\n      <td>0.055379</td>\n      <td>0.052306</td>\n      <td>0.005978</td>\n      <td>0.003632</td>\n    </tr>\n  </tbody>\n</table>\n</div>"
          },
          "metadata": {}
        }
      ]
    },
    {
      "metadata": {
        "_uuid": "380dbd5b0081153dbf7dfe783898a30a5f19ecd3"
      },
      "cell_type": "markdown",
      "source": "**Meta Model**"
    },
    {
      "metadata": {
        "trusted": true,
        "_uuid": "18f5557555ff714a149cf125109ad8e5f1cd9941"
      },
      "cell_type": "code",
      "source": "X_train2,X_test2, y_train2, y_test2 = train_test_split(a,y_test,random_state=100,test_size=0.30)",
      "execution_count": 359,
      "outputs": []
    },
    {
      "metadata": {
        "trusted": true,
        "_uuid": "725b82147c27522d26753ddbd28edf3be93904e4"
      },
      "cell_type": "code",
      "source": "from sklearn.metrics import roc_auc_score\nimport xgboost as xgb\ngbm=xgb.XGBClassifier(\n                      max_depth=3,\n                      subsample=0.9,\n                      min_child_bytree=20,\n                      learning_rate=0.01,\n                      objective='gpu:binary:logistic', \n                      n_estimators=100,\n                      seed=200).fit(trainB,y)\npredictions2 = gbm.predict_proba(X_testr);\n\n",
      "execution_count": 389,
      "outputs": []
    },
    {
      "metadata": {
        "trusted": true,
        "_uuid": "53237eaf09702922fdc8b67232209710ef54293f"
      },
      "cell_type": "code",
      "source": "predictions2 = gbm.predict_proba(testt);",
      "execution_count": 400,
      "outputs": []
    },
    {
      "metadata": {
        "trusted": true,
        "_uuid": "d33f0cd5c5ae3b1da1ca840a1b0d18978fccae6f"
      },
      "cell_type": "code",
      "source": "predictions2[:,1].shape",
      "execution_count": 404,
      "outputs": [
        {
          "output_type": "execute_result",
          "execution_count": 404,
          "data": {
            "text/plain": "(48434,)"
          },
          "metadata": {}
        }
      ]
    },
    {
      "metadata": {
        "trusted": true,
        "_uuid": "025083b9a70d2004e920d59b0dcb7497a81818af"
      },
      "cell_type": "code",
      "source": "pdtest.isnull().sum()",
      "execution_count": 407,
      "outputs": [
        {
          "output_type": "execute_result",
          "execution_count": 407,
          "data": {
            "text/plain": "UID         0\nbad_flag    0\ndtype: int64"
          },
          "metadata": {}
        }
      ]
    },
    {
      "metadata": {
        "trusted": true,
        "_uuid": "da7c9a753de6ba433861ccaadf1652e34c057422"
      },
      "cell_type": "code",
      "source": "pdtest = pd.DataFrame({'UID':testr.UID.astype(object)})\npdtest['bad_flag']=predictions2[:,1]\npdtest.to_csv('ggptest2.csv', index=False);",
      "execution_count": 402,
      "outputs": []
    },
    {
      "metadata": {
        "trusted": true,
        "_uuid": "485cf5a2684e74e4c320de6f8f5cde91aef95e30"
      },
      "cell_type": "code",
      "source": "pdtest\n",
      "execution_count": 408,
      "outputs": [
        {
          "output_type": "execute_result",
          "execution_count": 408,
          "data": {
            "text/plain": "            UID  bad_flag\n0          Te-1  0.223402\n1          Te-2  0.234213\n2          Te-3  0.237243\n3          Te-4  0.230829\n4          Te-5  0.228247\n5          Te-6  0.278715\n6          Te-7  0.227265\n7          Te-8  0.229088\n8          Te-9  0.241036\n9         Te-10  0.233268\n10        Te-11  0.277322\n11        Te-12  0.270375\n12        Te-13  0.258041\n13        Te-14  0.229842\n14        Te-15  0.244245\n15        Te-16  0.239198\n16        Te-17  0.232800\n17        Te-18  0.225237\n18        Te-19  0.231221\n19        Te-20  0.248594\n20        Te-21  0.230949\n21        Te-22  0.229185\n22        Te-23  0.229386\n23        Te-24  0.224791\n24        Te-25  0.229590\n25        Te-26  0.243332\n26        Te-27  0.230729\n27        Te-28  0.230829\n28        Te-29  0.232703\n29        Te-30  0.221321\n...         ...       ...\n48404  Te-48405  0.230116\n48405  Te-48406  0.229527\n48406  Te-48407  0.230230\n48407  Te-48408  0.228147\n48408  Te-48409  0.225726\n48409  Te-48410  0.245310\n48410  Te-48411  0.228818\n48411  Te-48412  0.243439\n48412  Te-48413  0.265369\n48413  Te-48414  0.221321\n48414  Te-48415  0.283385\n48415  Te-48416  0.264022\n48416  Te-48417  0.228955\n48417  Te-48418  0.231681\n48418  Te-48419  0.230829\n48419  Te-48420  0.227265\n48420  Te-48421  0.246393\n48421  Te-48422  0.233089\n48422  Te-48423  0.247622\n48423  Te-48424  0.246188\n48424  Te-48425  0.228818\n48425  Te-48426  0.268012\n48426  Te-48427  0.228955\n48427  Te-48428  0.232579\n48428  Te-48429  0.227265\n48429  Te-48430  0.228818\n48430  Te-48431  0.221321\n48431  Te-48432  0.233907\n48432  Te-48433  0.248494\n48433  Te-48434  0.228818\n\n[48434 rows x 2 columns]",
            "text/html": "<div>\n<style scoped>\n    .dataframe tbody tr th:only-of-type {\n        vertical-align: middle;\n    }\n\n    .dataframe tbody tr th {\n        vertical-align: top;\n    }\n\n    .dataframe thead th {\n        text-align: right;\n    }\n</style>\n<table border=\"1\" class=\"dataframe\">\n  <thead>\n    <tr style=\"text-align: right;\">\n      <th></th>\n      <th>UID</th>\n      <th>bad_flag</th>\n    </tr>\n  </thead>\n  <tbody>\n    <tr>\n      <th>0</th>\n      <td>Te-1</td>\n      <td>0.223402</td>\n    </tr>\n    <tr>\n      <th>1</th>\n      <td>Te-2</td>\n      <td>0.234213</td>\n    </tr>\n    <tr>\n      <th>2</th>\n      <td>Te-3</td>\n      <td>0.237243</td>\n    </tr>\n    <tr>\n      <th>3</th>\n      <td>Te-4</td>\n      <td>0.230829</td>\n    </tr>\n    <tr>\n      <th>4</th>\n      <td>Te-5</td>\n      <td>0.228247</td>\n    </tr>\n    <tr>\n      <th>5</th>\n      <td>Te-6</td>\n      <td>0.278715</td>\n    </tr>\n    <tr>\n      <th>6</th>\n      <td>Te-7</td>\n      <td>0.227265</td>\n    </tr>\n    <tr>\n      <th>7</th>\n      <td>Te-8</td>\n      <td>0.229088</td>\n    </tr>\n    <tr>\n      <th>8</th>\n      <td>Te-9</td>\n      <td>0.241036</td>\n    </tr>\n    <tr>\n      <th>9</th>\n      <td>Te-10</td>\n      <td>0.233268</td>\n    </tr>\n    <tr>\n      <th>10</th>\n      <td>Te-11</td>\n      <td>0.277322</td>\n    </tr>\n    <tr>\n      <th>11</th>\n      <td>Te-12</td>\n      <td>0.270375</td>\n    </tr>\n    <tr>\n      <th>12</th>\n      <td>Te-13</td>\n      <td>0.258041</td>\n    </tr>\n    <tr>\n      <th>13</th>\n      <td>Te-14</td>\n      <td>0.229842</td>\n    </tr>\n    <tr>\n      <th>14</th>\n      <td>Te-15</td>\n      <td>0.244245</td>\n    </tr>\n    <tr>\n      <th>15</th>\n      <td>Te-16</td>\n      <td>0.239198</td>\n    </tr>\n    <tr>\n      <th>16</th>\n      <td>Te-17</td>\n      <td>0.232800</td>\n    </tr>\n    <tr>\n      <th>17</th>\n      <td>Te-18</td>\n      <td>0.225237</td>\n    </tr>\n    <tr>\n      <th>18</th>\n      <td>Te-19</td>\n      <td>0.231221</td>\n    </tr>\n    <tr>\n      <th>19</th>\n      <td>Te-20</td>\n      <td>0.248594</td>\n    </tr>\n    <tr>\n      <th>20</th>\n      <td>Te-21</td>\n      <td>0.230949</td>\n    </tr>\n    <tr>\n      <th>21</th>\n      <td>Te-22</td>\n      <td>0.229185</td>\n    </tr>\n    <tr>\n      <th>22</th>\n      <td>Te-23</td>\n      <td>0.229386</td>\n    </tr>\n    <tr>\n      <th>23</th>\n      <td>Te-24</td>\n      <td>0.224791</td>\n    </tr>\n    <tr>\n      <th>24</th>\n      <td>Te-25</td>\n      <td>0.229590</td>\n    </tr>\n    <tr>\n      <th>25</th>\n      <td>Te-26</td>\n      <td>0.243332</td>\n    </tr>\n    <tr>\n      <th>26</th>\n      <td>Te-27</td>\n      <td>0.230729</td>\n    </tr>\n    <tr>\n      <th>27</th>\n      <td>Te-28</td>\n      <td>0.230829</td>\n    </tr>\n    <tr>\n      <th>28</th>\n      <td>Te-29</td>\n      <td>0.232703</td>\n    </tr>\n    <tr>\n      <th>29</th>\n      <td>Te-30</td>\n      <td>0.221321</td>\n    </tr>\n    <tr>\n      <th>...</th>\n      <td>...</td>\n      <td>...</td>\n    </tr>\n    <tr>\n      <th>48404</th>\n      <td>Te-48405</td>\n      <td>0.230116</td>\n    </tr>\n    <tr>\n      <th>48405</th>\n      <td>Te-48406</td>\n      <td>0.229527</td>\n    </tr>\n    <tr>\n      <th>48406</th>\n      <td>Te-48407</td>\n      <td>0.230230</td>\n    </tr>\n    <tr>\n      <th>48407</th>\n      <td>Te-48408</td>\n      <td>0.228147</td>\n    </tr>\n    <tr>\n      <th>48408</th>\n      <td>Te-48409</td>\n      <td>0.225726</td>\n    </tr>\n    <tr>\n      <th>48409</th>\n      <td>Te-48410</td>\n      <td>0.245310</td>\n    </tr>\n    <tr>\n      <th>48410</th>\n      <td>Te-48411</td>\n      <td>0.228818</td>\n    </tr>\n    <tr>\n      <th>48411</th>\n      <td>Te-48412</td>\n      <td>0.243439</td>\n    </tr>\n    <tr>\n      <th>48412</th>\n      <td>Te-48413</td>\n      <td>0.265369</td>\n    </tr>\n    <tr>\n      <th>48413</th>\n      <td>Te-48414</td>\n      <td>0.221321</td>\n    </tr>\n    <tr>\n      <th>48414</th>\n      <td>Te-48415</td>\n      <td>0.283385</td>\n    </tr>\n    <tr>\n      <th>48415</th>\n      <td>Te-48416</td>\n      <td>0.264022</td>\n    </tr>\n    <tr>\n      <th>48416</th>\n      <td>Te-48417</td>\n      <td>0.228955</td>\n    </tr>\n    <tr>\n      <th>48417</th>\n      <td>Te-48418</td>\n      <td>0.231681</td>\n    </tr>\n    <tr>\n      <th>48418</th>\n      <td>Te-48419</td>\n      <td>0.230829</td>\n    </tr>\n    <tr>\n      <th>48419</th>\n      <td>Te-48420</td>\n      <td>0.227265</td>\n    </tr>\n    <tr>\n      <th>48420</th>\n      <td>Te-48421</td>\n      <td>0.246393</td>\n    </tr>\n    <tr>\n      <th>48421</th>\n      <td>Te-48422</td>\n      <td>0.233089</td>\n    </tr>\n    <tr>\n      <th>48422</th>\n      <td>Te-48423</td>\n      <td>0.247622</td>\n    </tr>\n    <tr>\n      <th>48423</th>\n      <td>Te-48424</td>\n      <td>0.246188</td>\n    </tr>\n    <tr>\n      <th>48424</th>\n      <td>Te-48425</td>\n      <td>0.228818</td>\n    </tr>\n    <tr>\n      <th>48425</th>\n      <td>Te-48426</td>\n      <td>0.268012</td>\n    </tr>\n    <tr>\n      <th>48426</th>\n      <td>Te-48427</td>\n      <td>0.228955</td>\n    </tr>\n    <tr>\n      <th>48427</th>\n      <td>Te-48428</td>\n      <td>0.232579</td>\n    </tr>\n    <tr>\n      <th>48428</th>\n      <td>Te-48429</td>\n      <td>0.227265</td>\n    </tr>\n    <tr>\n      <th>48429</th>\n      <td>Te-48430</td>\n      <td>0.228818</td>\n    </tr>\n    <tr>\n      <th>48430</th>\n      <td>Te-48431</td>\n      <td>0.221321</td>\n    </tr>\n    <tr>\n      <th>48431</th>\n      <td>Te-48432</td>\n      <td>0.233907</td>\n    </tr>\n    <tr>\n      <th>48432</th>\n      <td>Te-48433</td>\n      <td>0.248494</td>\n    </tr>\n    <tr>\n      <th>48433</th>\n      <td>Te-48434</td>\n      <td>0.228818</td>\n    </tr>\n  </tbody>\n</table>\n<p>48434 rows × 2 columns</p>\n</div>"
          },
          "metadata": {}
        }
      ]
    },
    {
      "metadata": {
        "trusted": true,
        "_uuid": "99580115f331ecceb9644f3da3f5b795baa8f101"
      },
      "cell_type": "code",
      "source": "",
      "execution_count": null,
      "outputs": []
    }
  ],
  "metadata": {
    "kernelspec": {
      "display_name": "Python 3",
      "language": "python",
      "name": "python3"
    },
    "language_info": {
      "name": "python",
      "version": "3.6.6",
      "mimetype": "text/x-python",
      "codemirror_mode": {
        "name": "ipython",
        "version": 3
      },
      "pygments_lexer": "ipython3",
      "nbconvert_exporter": "python",
      "file_extension": ".py"
    }
  },
  "nbformat": 4,
  "nbformat_minor": 1
}