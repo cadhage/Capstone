{
  "cells": [
    {
      "metadata": {
        "_uuid": "8f2839f25d086af736a60e9eeb907d3b93b6e0e5",
        "_cell_guid": "b1076dfc-b9ad-4769-8c92-a6c4dae69d19",
        "trusted": true
      },
      "cell_type": "code",
      "source": "# This Python 3 environment comes with many helpful analytics libraries installed\n# It is defined by the kaggle/python docker image: https://github.com/kaggle/docker-python\n# For example, here's several helpful packages to load in \n\nimport numpy as np # linear algebra\nimport pandas as pd # data processing, CSV file I/O (e.g. pd.read_csv)\n\n# Input data files are available in the \"../input/\" directory.\n# For example, running this (by clicking run or pressing Shift+Enter) will list the files in the input directory\n\nimport os\nprint(os.listdir(\"../input\"))\n\n# Any results you write to the current directory are saved as output.",
      "execution_count": 4,
      "outputs": [
        {
          "output_type": "stream",
          "text": "['airlines.csv', 'flights.csv', 'airports.csv']\n",
          "name": "stdout"
        }
      ]
    },
    {
      "metadata": {
        "trusted": true,
        "_uuid": "6d686993d2e193206f66759abda76d764575f124"
      },
      "cell_type": "code",
      "source": "from sklearn.model_selection import GridSearchCV",
      "execution_count": 9,
      "outputs": []
    },
    {
      "metadata": {
        "_cell_guid": "79c7e3d0-c299-4dcb-8224-4455121ee9b0",
        "_uuid": "d629ff2d2480ee46fbb7e2d37f6b5fab8052498a",
        "trusted": true
      },
      "cell_type": "code",
      "source": "import pandas as pd, numpy as np, time\nfrom sklearn.model_selection import train_test_split\n\ndata = pd.read_csv(\"../input/flights.csv\")\ndata = data.sample(frac = 0.1, random_state=10)\n\ndata = data[[\"MONTH\",\"DAY\",\"DAY_OF_WEEK\",\"AIRLINE\",\"FLIGHT_NUMBER\",\"DESTINATION_AIRPORT\",\n                 \"ORIGIN_AIRPORT\",\"AIR_TIME\", \"DEPARTURE_TIME\",\"DISTANCE\",\"ARRIVAL_DELAY\"]]\ndata.dropna(inplace=True)\n\ndata[\"ARRIVAL_DELAY\"] = (data[\"ARRIVAL_DELAY\"]>10)*1\n\ncols = [\"AIRLINE\",\"FLIGHT_NUMBER\",\"DESTINATION_AIRPORT\",\"ORIGIN_AIRPORT\"]\nfor item in cols:\n    data[item] = data[item].astype(\"category\").cat.codes +1\n \ntrain, test, y_train, y_test = train_test_split(data.drop([\"ARRIVAL_DELAY\"], axis=1), data[\"ARRIVAL_DELAY\"],\nrandom_state=10, test_size=0.25)",
      "execution_count": 5,
      "outputs": [
        {
          "output_type": "stream",
          "text": "/opt/conda/lib/python3.6/site-packages/IPython/core/interactiveshell.py:2785: DtypeWarning: Columns (7,8) have mixed types. Specify dtype option on import or set low_memory=False.\n  interactivity=interactivity, compiler=compiler, result=result)\n",
          "name": "stderr"
        }
      ]
    },
    {
      "metadata": {
        "trusted": true,
        "_uuid": "b3413a1d8279e85998dbefc71e96d33a8ce68a59"
      },
      "cell_type": "code",
      "source": "import xgboost as xgb\nfrom sklearn import metrics\n\ndef auc(m, train, test): \n    return (metrics.roc_auc_score(y_train,m.predict_proba(train)[:,1]),\n                            metrics.roc_auc_score(y_test,m.predict_proba(test)[:,1]))\n\n# Parameter Tuning\nmodel = xgb.XGBClassifier()\nparam_dist = {\"max_depth\": [10,30,50],\n              \"min_child_weight\" : [1,3,6],\n              \"n_estimators\": [200],\n              \"learning_rate\": [0.05, 0.1,0.16],}\ngrid_search = GridSearchCV(model, param_grid=param_dist, cv = 3, \n                                   verbose=10, n_jobs=-1)\ngrid_search.fit(train, y_train)\n\ngrid_search.best_estimator_\n\nmodel = xgb.XGBClassifier(max_depth=50, min_child_weight=1,  n_estimators=200,\\\n                          n_jobs=-1 , verbose=1,learning_rate=0.16)\nmodel.fit(train,y_train)\n\nauc(model, train, test)",
      "execution_count": null,
      "outputs": [
        {
          "output_type": "stream",
          "text": "Fitting 3 folds for each of 27 candidates, totalling 81 fits\n",
          "name": "stdout"
        },
        {
          "output_type": "stream",
          "text": "[Parallel(n_jobs=-1)]: Using backend LokyBackend with 4 concurrent workers.\n",
          "name": "stderr"
        }
      ]
    },
    {
      "metadata": {
        "trusted": true,
        "_uuid": "74d7f7b4afb45f718565d01253a69916bb798766"
      },
      "cell_type": "code",
      "source": "import lightgbm as lgb\nfrom sklearn import metrics\n\ndef auc2(m, train, test): \n    return (metrics.roc_auc_score(y_train,m.predict(train)),\n                            metrics.roc_auc_score(y_test,m.predict(test)))\n\nlg = lgb.LGBMClassifier(silent=False)\nparam_dist = {\"max_depth\": [25,50, 75],\n              \"learning_rate\" : [0.01,0.05,0.1],\n              \"num_leaves\": [300,900,1200],\n              \"n_estimators\": [200]\n             }\ngrid_search = GridSearchCV(lg, n_jobs=-1, param_grid=param_dist, cv = 3, scoring=\"roc_auc\", verbose=5)\ngrid_search.fit(train,y_train)\ngrid_search.best_estimator_\n\nd_train = lgb.Dataset(train, label=y_train)\nparams = {\"max_depth\": 50, \"learning_rate\" : 0.1, \"num_leaves\": 900,  \"n_estimators\": 300}\n\n# Without Categorical Features\nmodel2 = lgb.train(params, d_train)\nauc2(model2, train, test)\n\n#With Catgeorical Features\ncate_features_name = [\"MONTH\",\"DAY\",\"DAY_OF_WEEK\",\"AIRLINE\",\"DESTINATION_AIRPORT\",\n                 \"ORIGIN_AIRPORT\"]\nmodel2 = lgb.train(params, d_train, categorical_feature = cate_features_name)\nauc2(model2, train, test)",
      "execution_count": null,
      "outputs": []
    },
    {
      "metadata": {
        "trusted": true,
        "_uuid": "45374074abdcac6a2268118230f14b798c8b0431"
      },
      "cell_type": "code",
      "source": "import catboost as cb\ncat_features_index = [0,1,2,3,4,5,6]\n\ndef auc(m, train, test): \n    return (metrics.roc_auc_score(y_train,m.predict_proba(train)[:,1]),\n                            metrics.roc_auc_score(y_test,m.predict_proba(test)[:,1]))\n\nparams = {'depth': [4, 7, 10],\n          'learning_rate' : [0.03, 0.1, 0.15],\n         'l2_leaf_reg': [1,4,9],\n         'iterations': [300]}\ncb = cb.CatBoostClassifier()\ncb_model = GridSearchCV(cb, params, scoring=\"roc_auc\", cv = 3)\ncb_model.fit(train, y_train)\n\nWith Categorical features\nclf = cb.CatBoostClassifier(eval_metric=\"AUC\", depth=10, iterations= 500, l2_leaf_reg= 9, learning_rate= 0.15)\nclf.fit(train,y_train)\nauc(clf, train, test)\n\nWith Categorical features\nclf = cb.CatBoostClassifier(eval_metric=\"AUC\",one_hot_max_size=31, \\\n                            depth=10, iterations= 500, l2_leaf_reg= 9, learning_rate= 0.15)\nclf.fit(train,y_train, cat_features= cat_features_index)\nauc(clf, train, test)",
      "execution_count": null,
      "outputs": []
    }
  ],
  "metadata": {
    "kernelspec": {
      "display_name": "Python 3",
      "language": "python",
      "name": "python3"
    },
    "language_info": {
      "name": "python",
      "version": "3.6.6",
      "mimetype": "text/x-python",
      "codemirror_mode": {
        "name": "ipython",
        "version": 3
      },
      "pygments_lexer": "ipython3",
      "nbconvert_exporter": "python",
      "file_extension": ".py"
    }
  },
  "nbformat": 4,
  "nbformat_minor": 1
}