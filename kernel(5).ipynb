{
  "cells": [
    {
      "metadata": {
        "_uuid": "8f2839f25d086af736a60e9eeb907d3b93b6e0e5",
        "_cell_guid": "b1076dfc-b9ad-4769-8c92-a6c4dae69d19",
        "trusted": true
      },
      "cell_type": "code",
      "source": "# This Python 3 environment comes with many helpful analytics libraries installed\n# It is defined by the kaggle/python docker image: https://github.com/kaggle/docker-python\n# For example, here's several helpful packages to load in \n\nimport numpy as np # linear algebra\nimport pandas as pd # data processing, CSV file I/O (e.g. pd.read_csv)\n\n# Input data files are available in the \"../input/\" directory.\n# For example, running this (by clicking run or pressing Shift+Enter) will list the files in the input directory\n\nimport os\nprint(os.listdir(\"../input\"))\n\n# Any results you write to the current directory are saved as output.",
      "execution_count": 32,
      "outputs": [
        {
          "output_type": "stream",
          "text": "['train', 'testffguyfyuf']\n",
          "name": "stdout"
        }
      ]
    },
    {
      "metadata": {
        "_cell_guid": "79c7e3d0-c299-4dcb-8224-4455121ee9b0",
        "_uuid": "d629ff2d2480ee46fbb7e2d37f6b5fab8052498a",
        "trusted": true
      },
      "cell_type": "code",
      "source": "trainA=pd.read_csv(\"../input/train/AggregateData_Train.csv\")\ntestr=pd.read_csv(\"../input/testffguyfyuf/AggregateData_Test.csv\")",
      "execution_count": 39,
      "outputs": []
    },
    {
      "metadata": {
        "trusted": true,
        "_uuid": "516561bcc5355b0ea095f66ce6e37ed7478a6486"
      },
      "cell_type": "code",
      "source": "y = trainA[\"bad_flag\"];\nX=trainA.drop(['bad_flag'], axis=1);",
      "execution_count": 34,
      "outputs": []
    },
    {
      "metadata": {
        "trusted": true,
        "_uuid": "f211635a1be3a03240f5efed41c77e04557c46b7"
      },
      "cell_type": "code",
      "source": "def reffU(data): \n    data=data.replace('?', 0);\n    data.fillna('0', inplace=True)\n    #data.isnull().sum();\n    data.drop(['V1', 'V2'], inplace=True, axis=1)\n    return data;",
      "execution_count": 35,
      "outputs": []
    },
    {
      "metadata": {
        "trusted": true,
        "_uuid": "3f9851ca5a8a38ad276447f4ba6efb61602e656a"
      },
      "cell_type": "code",
      "source": "from sklearn.preprocessing import MinMaxScaler\nfrom sklearn import preprocessing\ndef reff(data): \n    scaled_df= data.copy()\n    scaled_df1= data.copy()\n    col_names=['V3', 'V4', 'V5', 'V6', 'V7', 'V8', 'V9', 'V10', 'V11', 'V12',\n           'V13', 'V14', 'V15', 'V16', 'V17', 'V18', 'V19', 'V20', 'V21', 'V22',\n           'V23', 'V24', 'V25', 'V26', 'V27', 'V28', 'V29', 'V30', 'V31', 'V32',\n           'V33', 'V34', 'V35', 'V36', 'V37', 'V38', 'V39', 'V40', 'V41', 'V42',\n           'V43', 'V44', 'V45', 'V46', 'V47', 'V48', 'V49', 'V50', 'V51', 'V52',\n           'V53'];\n    features = scaled_df[col_names]\n    scaler = MinMaxScaler().fit(features.values)\n    features = scaler.transform(features.values)\n    scaled_df[col_names] = features; \n    scaled_df['UID']=scaled_df.UID.astype('category').cat.codes;\n    return scaled_df.astype(float);",
      "execution_count": 36,
      "outputs": []
    },
    {
      "metadata": {
        "trusted": true,
        "_uuid": "3293f2abbb915a1fd1a2a970818ee921792fa5ec"
      },
      "cell_type": "code",
      "source": "from sklearn.preprocessing import MinMaxScaler\nfrom sklearn import preprocessing\ndef reff1(data): \n    scaled_df= data.copy()\n    scaled_df1= data.copy()\n    col_names=['V3', 'V4', 'V5', 'V6', 'V7', 'V8', 'V9', 'V10', 'V11', 'V12',\n           'V13', 'V14', 'V15', 'V16', 'V17', 'V18', 'V19', 'V20', 'V21', 'V22',\n           'V23', 'V24', 'V25', 'V26', 'V27', 'V28', 'V29', 'V30', 'V31', 'V32',\n           'V33', 'V34', 'V35', 'V36', 'V37', 'V38', 'V39', 'V40', 'V41', 'V42',\n           'V43', 'V44', 'V45', 'V46', 'V47', 'V48', 'V49', 'V50', 'V51', 'V52',\n           'V53'];\n    features = scaled_df[col_names]\n#     scaler = MinMaxScaler().fit(features.values)\n#     features = scaler.transform(features.values)\n#     scaled_df[col_names] = features; \n    scaled_df['UID']=scaled_df.UID.astype('category').cat.codes;\n    return scaled_df.astype(float);",
      "execution_count": 37,
      "outputs": []
    },
    {
      "metadata": {
        "trusted": true,
        "_uuid": "0ba0dc5140f98ef96109333107ae2660c912d7ca"
      },
      "cell_type": "code",
      "source": "if __name__ == \"__main__\":\n    trainA = reffU(X) \n    testA= reffU(testr)\n    train = reff(trainA) \n    test = reff(testA)\n    trainB = reff1(trainA) \n    testB = reff1(testA)",
      "execution_count": 40,
      "outputs": [
        {
          "output_type": "stream",
          "text": "/opt/conda/lib/python3.6/site-packages/sklearn/utils/validation.py:475: DataConversionWarning: Data with input dtype object was converted to float64 by MinMaxScaler.\n  warnings.warn(msg, DataConversionWarning)\n",
          "name": "stderr"
        }
      ]
    },
    {
      "metadata": {
        "trusted": true,
        "_uuid": "8bfdd72e4184058668423a855cc6c6f22b1a5ce4"
      },
      "cell_type": "code",
      "source": "from sklearn.metrics import roc_auc_score\nimport xgboost as xgb\ngbm=xgb.XGBClassifier(\n                      max_depth=10,\n                      subsample=0.9,\n                      min_child_bytree=2000,\n                      learning_rate=0.05,\n                      objective='gpu:binary:logistic', \n                      n_estimators=1000,\n                      seed=200).fit(trainB,y)\npredictions = gbm.predict_proba(testB);\n# df = pd.DataFrame(predictions, dtype='float')\n# df.drop([0], inplace=True, axis=1);\n# Pred1=roc_auc_score(test, df);",
      "execution_count": 41,
      "outputs": []
    },
    {
      "metadata": {
        "trusted": true,
        "_uuid": "72aaaf4d09cb48f0658617f7ba52b24cd94d618f"
      },
      "cell_type": "code",
      "source": "df = pd.DataFrame(predictions, dtype='float')\ndf.drop([0], inplace=True, axis=1);\npdtest = pd.DataFrame({'UID':testr.UID.astype(object)})\npdtest['bad_flag']=df\npdtest.to_csv('ggptest.csv', index=False);",
      "execution_count": 42,
      "outputs": []
    },
    {
      "metadata": {
        "trusted": true,
        "_uuid": "0d0f2cc4d0a97da4b3b757dbee4baa3060f1a436"
      },
      "cell_type": "code",
      "source": "pdtest",
      "execution_count": 43,
      "outputs": [
        {
          "output_type": "execute_result",
          "execution_count": 43,
          "data": {
            "text/plain": "            UID  bad_flag\n0          Te-1  0.002158\n1          Te-2  0.007799\n2          Te-3  0.004546\n3          Te-4  0.000939\n4          Te-5  0.015269\n5          Te-6  0.010094\n6          Te-7  0.003828\n7          Te-8  0.002222\n8          Te-9  0.014420\n9         Te-10  0.007687\n10        Te-11  0.023499\n11        Te-12  0.006901\n12        Te-13  0.209783\n13        Te-14  0.014890\n14        Te-15  0.075164\n15        Te-16  0.053404\n16        Te-17  0.030081\n17        Te-18  0.020090\n18        Te-19  0.029090\n19        Te-20  0.007934\n20        Te-21  0.004158\n21        Te-22  0.020855\n22        Te-23  0.035235\n23        Te-24  0.003183\n24        Te-25  0.058751\n25        Te-26  0.025920\n26        Te-27  0.023369\n27        Te-28  0.000955\n28        Te-29  0.006708\n29        Te-30  0.002563\n...         ...       ...\n48404  Te-48405  0.579363\n48405  Te-48406  0.020152\n48406  Te-48407  0.059466\n48407  Te-48408  0.191925\n48408  Te-48409  0.002156\n48409  Te-48410  0.018168\n48410  Te-48411  0.002953\n48411  Te-48412  0.002273\n48412  Te-48413  0.033900\n48413  Te-48414  0.002368\n48414  Te-48415  0.020763\n48415  Te-48416  0.023543\n48416  Te-48417  0.011873\n48417  Te-48418  0.034314\n48418  Te-48419  0.013973\n48419  Te-48420  0.023307\n48420  Te-48421  0.032729\n48421  Te-48422  0.014061\n48422  Te-48423  0.084830\n48423  Te-48424  0.026974\n48424  Te-48425  0.024029\n48425  Te-48426  0.051404\n48426  Te-48427  0.016508\n48427  Te-48428  0.048815\n48428  Te-48429  0.000834\n48429  Te-48430  0.012728\n48430  Te-48431  0.014077\n48431  Te-48432  0.007150\n48432  Te-48433  0.004239\n48433  Te-48434  0.040226\n\n[48434 rows x 2 columns]",
            "text/html": "<div>\n<style scoped>\n    .dataframe tbody tr th:only-of-type {\n        vertical-align: middle;\n    }\n\n    .dataframe tbody tr th {\n        vertical-align: top;\n    }\n\n    .dataframe thead th {\n        text-align: right;\n    }\n</style>\n<table border=\"1\" class=\"dataframe\">\n  <thead>\n    <tr style=\"text-align: right;\">\n      <th></th>\n      <th>UID</th>\n      <th>bad_flag</th>\n    </tr>\n  </thead>\n  <tbody>\n    <tr>\n      <th>0</th>\n      <td>Te-1</td>\n      <td>0.002158</td>\n    </tr>\n    <tr>\n      <th>1</th>\n      <td>Te-2</td>\n      <td>0.007799</td>\n    </tr>\n    <tr>\n      <th>2</th>\n      <td>Te-3</td>\n      <td>0.004546</td>\n    </tr>\n    <tr>\n      <th>3</th>\n      <td>Te-4</td>\n      <td>0.000939</td>\n    </tr>\n    <tr>\n      <th>4</th>\n      <td>Te-5</td>\n      <td>0.015269</td>\n    </tr>\n    <tr>\n      <th>5</th>\n      <td>Te-6</td>\n      <td>0.010094</td>\n    </tr>\n    <tr>\n      <th>6</th>\n      <td>Te-7</td>\n      <td>0.003828</td>\n    </tr>\n    <tr>\n      <th>7</th>\n      <td>Te-8</td>\n      <td>0.002222</td>\n    </tr>\n    <tr>\n      <th>8</th>\n      <td>Te-9</td>\n      <td>0.014420</td>\n    </tr>\n    <tr>\n      <th>9</th>\n      <td>Te-10</td>\n      <td>0.007687</td>\n    </tr>\n    <tr>\n      <th>10</th>\n      <td>Te-11</td>\n      <td>0.023499</td>\n    </tr>\n    <tr>\n      <th>11</th>\n      <td>Te-12</td>\n      <td>0.006901</td>\n    </tr>\n    <tr>\n      <th>12</th>\n      <td>Te-13</td>\n      <td>0.209783</td>\n    </tr>\n    <tr>\n      <th>13</th>\n      <td>Te-14</td>\n      <td>0.014890</td>\n    </tr>\n    <tr>\n      <th>14</th>\n      <td>Te-15</td>\n      <td>0.075164</td>\n    </tr>\n    <tr>\n      <th>15</th>\n      <td>Te-16</td>\n      <td>0.053404</td>\n    </tr>\n    <tr>\n      <th>16</th>\n      <td>Te-17</td>\n      <td>0.030081</td>\n    </tr>\n    <tr>\n      <th>17</th>\n      <td>Te-18</td>\n      <td>0.020090</td>\n    </tr>\n    <tr>\n      <th>18</th>\n      <td>Te-19</td>\n      <td>0.029090</td>\n    </tr>\n    <tr>\n      <th>19</th>\n      <td>Te-20</td>\n      <td>0.007934</td>\n    </tr>\n    <tr>\n      <th>20</th>\n      <td>Te-21</td>\n      <td>0.004158</td>\n    </tr>\n    <tr>\n      <th>21</th>\n      <td>Te-22</td>\n      <td>0.020855</td>\n    </tr>\n    <tr>\n      <th>22</th>\n      <td>Te-23</td>\n      <td>0.035235</td>\n    </tr>\n    <tr>\n      <th>23</th>\n      <td>Te-24</td>\n      <td>0.003183</td>\n    </tr>\n    <tr>\n      <th>24</th>\n      <td>Te-25</td>\n      <td>0.058751</td>\n    </tr>\n    <tr>\n      <th>25</th>\n      <td>Te-26</td>\n      <td>0.025920</td>\n    </tr>\n    <tr>\n      <th>26</th>\n      <td>Te-27</td>\n      <td>0.023369</td>\n    </tr>\n    <tr>\n      <th>27</th>\n      <td>Te-28</td>\n      <td>0.000955</td>\n    </tr>\n    <tr>\n      <th>28</th>\n      <td>Te-29</td>\n      <td>0.006708</td>\n    </tr>\n    <tr>\n      <th>29</th>\n      <td>Te-30</td>\n      <td>0.002563</td>\n    </tr>\n    <tr>\n      <th>...</th>\n      <td>...</td>\n      <td>...</td>\n    </tr>\n    <tr>\n      <th>48404</th>\n      <td>Te-48405</td>\n      <td>0.579363</td>\n    </tr>\n    <tr>\n      <th>48405</th>\n      <td>Te-48406</td>\n      <td>0.020152</td>\n    </tr>\n    <tr>\n      <th>48406</th>\n      <td>Te-48407</td>\n      <td>0.059466</td>\n    </tr>\n    <tr>\n      <th>48407</th>\n      <td>Te-48408</td>\n      <td>0.191925</td>\n    </tr>\n    <tr>\n      <th>48408</th>\n      <td>Te-48409</td>\n      <td>0.002156</td>\n    </tr>\n    <tr>\n      <th>48409</th>\n      <td>Te-48410</td>\n      <td>0.018168</td>\n    </tr>\n    <tr>\n      <th>48410</th>\n      <td>Te-48411</td>\n      <td>0.002953</td>\n    </tr>\n    <tr>\n      <th>48411</th>\n      <td>Te-48412</td>\n      <td>0.002273</td>\n    </tr>\n    <tr>\n      <th>48412</th>\n      <td>Te-48413</td>\n      <td>0.033900</td>\n    </tr>\n    <tr>\n      <th>48413</th>\n      <td>Te-48414</td>\n      <td>0.002368</td>\n    </tr>\n    <tr>\n      <th>48414</th>\n      <td>Te-48415</td>\n      <td>0.020763</td>\n    </tr>\n    <tr>\n      <th>48415</th>\n      <td>Te-48416</td>\n      <td>0.023543</td>\n    </tr>\n    <tr>\n      <th>48416</th>\n      <td>Te-48417</td>\n      <td>0.011873</td>\n    </tr>\n    <tr>\n      <th>48417</th>\n      <td>Te-48418</td>\n      <td>0.034314</td>\n    </tr>\n    <tr>\n      <th>48418</th>\n      <td>Te-48419</td>\n      <td>0.013973</td>\n    </tr>\n    <tr>\n      <th>48419</th>\n      <td>Te-48420</td>\n      <td>0.023307</td>\n    </tr>\n    <tr>\n      <th>48420</th>\n      <td>Te-48421</td>\n      <td>0.032729</td>\n    </tr>\n    <tr>\n      <th>48421</th>\n      <td>Te-48422</td>\n      <td>0.014061</td>\n    </tr>\n    <tr>\n      <th>48422</th>\n      <td>Te-48423</td>\n      <td>0.084830</td>\n    </tr>\n    <tr>\n      <th>48423</th>\n      <td>Te-48424</td>\n      <td>0.026974</td>\n    </tr>\n    <tr>\n      <th>48424</th>\n      <td>Te-48425</td>\n      <td>0.024029</td>\n    </tr>\n    <tr>\n      <th>48425</th>\n      <td>Te-48426</td>\n      <td>0.051404</td>\n    </tr>\n    <tr>\n      <th>48426</th>\n      <td>Te-48427</td>\n      <td>0.016508</td>\n    </tr>\n    <tr>\n      <th>48427</th>\n      <td>Te-48428</td>\n      <td>0.048815</td>\n    </tr>\n    <tr>\n      <th>48428</th>\n      <td>Te-48429</td>\n      <td>0.000834</td>\n    </tr>\n    <tr>\n      <th>48429</th>\n      <td>Te-48430</td>\n      <td>0.012728</td>\n    </tr>\n    <tr>\n      <th>48430</th>\n      <td>Te-48431</td>\n      <td>0.014077</td>\n    </tr>\n    <tr>\n      <th>48431</th>\n      <td>Te-48432</td>\n      <td>0.007150</td>\n    </tr>\n    <tr>\n      <th>48432</th>\n      <td>Te-48433</td>\n      <td>0.004239</td>\n    </tr>\n    <tr>\n      <th>48433</th>\n      <td>Te-48434</td>\n      <td>0.040226</td>\n    </tr>\n  </tbody>\n</table>\n<p>48434 rows × 2 columns</p>\n</div>"
          },
          "metadata": {}
        }
      ]
    },
    {
      "metadata": {
        "trusted": true,
        "_uuid": "e487edac24131a17dce036a6f4f6fbce7abd67a5"
      },
      "cell_type": "code",
      "source": "from sklearn.metrics import roc_auc_score\nimport xgboost as xgb\ngbm=xgb.XGBClassifier(\n                      max_depth=10,\n                      subsample=0.9,\n                      min_child_bytree=2000,\n                      learning_rate=0.05,\n                      objective='gpu:binary:logistic', \n                      n_estimators=1000,\n                      seed=200).fit(trainB,y)\npredictions1 = gbm.predict_proba(test);\n# df = pd.DataFrame(predictions, dtype='float')\n# df.drop([0], inplace=True, axis=1);\n# pred2=roc_auc_score(y_test, df);",
      "execution_count": 26,
      "outputs": []
    },
    {
      "metadata": {
        "trusted": true,
        "_uuid": "6ecc02e65b1c003d55c5a09711843b7b37cc22cb"
      },
      "cell_type": "code",
      "source": "df = pd.DataFrame(predictions1, dtype='float')\ndf.drop([0], inplace=True, axis=1);\npdtest = pd.DataFrame({'UID':testr.UID.astype(object)})\npdtest['bad_flag']=df\npdtest.to_csv('ggptest1.csv', index=False);",
      "execution_count": 27,
      "outputs": []
    },
    {
      "metadata": {
        "trusted": true,
        "_uuid": "77a0bd95745364acd732bb9c41259321d51dc4a3"
      },
      "cell_type": "code",
      "source": "from sklearn.metrics import roc_auc_score\nimport xgboost as xgb\ngbm=xgb.XGBClassifier(\n                      max_depth=10,\n                      subsample=0.9,\n                      min_child_bytree=2000,\n                      learning_rate=0.01,\n                      objective='gpu:binary:logistic', \n                      n_estimators=100,\n                      seed=200).fit(trainB,y)\npredictions2 = gbm.predict_proba(test);",
      "execution_count": 30,
      "outputs": []
    },
    {
      "metadata": {
        "trusted": true,
        "_uuid": "6eb334c57b128f51a2f74aca6b981082e8744254"
      },
      "cell_type": "code",
      "source": "df = pd.DataFrame(predictions2, dtype='float')\ndf.drop([0], inplace=True, axis=1);\npdtest = pd.DataFrame({'UID':testr.UID.astype(object)})\npdtest['bad_flag']=df\npdtest.to_csv('ggptest2.csv', index=False);",
      "execution_count": 31,
      "outputs": []
    },
    {
      "metadata": {
        "trusted": true,
        "_uuid": "35b1ce653dbd9791350f97ecdc53d28c674278dc"
      },
      "cell_type": "code",
      "source": "",
      "execution_count": null,
      "outputs": []
    }
  ],
  "metadata": {
    "kernelspec": {
      "display_name": "Python 3",
      "language": "python",
      "name": "python3"
    },
    "language_info": {
      "name": "python",
      "version": "3.6.6",
      "mimetype": "text/x-python",
      "codemirror_mode": {
        "name": "ipython",
        "version": 3
      },
      "pygments_lexer": "ipython3",
      "nbconvert_exporter": "python",
      "file_extension": ".py"
    }
  },
  "nbformat": 4,
  "nbformat_minor": 1
}