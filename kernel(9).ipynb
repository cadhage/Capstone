{
  "cells": [
    {
      "metadata": {
        "_uuid": "8f2839f25d086af736a60e9eeb907d3b93b6e0e5",
        "_cell_guid": "b1076dfc-b9ad-4769-8c92-a6c4dae69d19",
        "trusted": true
      },
      "cell_type": "code",
      "source": "# This Python 3 environment comes with many helpful analytics libraries installed\n# It is defined by the kaggle/python docker image: https://github.com/kaggle/docker-python\n# For example, here's several helpful packages to load in \n\nimport numpy as np # linear algebra\nimport pandas as pd # data processing, CSV file I/O (e.g. pd.read_csv)\n\n# Input data files are available in the \"../input/\" directory.\n# For example, running this (by clicking run or pressing Shift+Enter) will list the files in the input directory\n\nimport os\nprint(os.listdir(\"../input\"))\n\n# Any results you write to the current directory are saved as output.",
      "execution_count": 2,
      "outputs": [
        {
          "output_type": "stream",
          "text": "['airlines.csv', 'flights.csv', 'airports.csv']\n",
          "name": "stdout"
        }
      ]
    },
    {
      "metadata": {
        "trusted": true,
        "_uuid": "6d686993d2e193206f66759abda76d764575f124"
      },
      "cell_type": "code",
      "source": "from sklearn.model_selection import GridSearchCV",
      "execution_count": 3,
      "outputs": []
    },
    {
      "metadata": {
        "_cell_guid": "79c7e3d0-c299-4dcb-8224-4455121ee9b0",
        "_uuid": "d629ff2d2480ee46fbb7e2d37f6b5fab8052498a",
        "trusted": true
      },
      "cell_type": "code",
      "source": "import pandas as pd, numpy as np, time\nfrom sklearn.model_selection import train_test_split\n\ndata = pd.read_csv(\"../input/flights.csv\")\ndata = data.sample(frac = 0.1, random_state=10)\n\ndata = data[[\"MONTH\",\"DAY\",\"DAY_OF_WEEK\",\"AIRLINE\",\"FLIGHT_NUMBER\",\"DESTINATION_AIRPORT\",\n                 \"ORIGIN_AIRPORT\",\"AIR_TIME\", \"DEPARTURE_TIME\",\"DISTANCE\",\"ARRIVAL_DELAY\"]]\ndata.dropna(inplace=True)\n\ndata[\"ARRIVAL_DELAY\"] = (data[\"ARRIVAL_DELAY\"]>10)*1\n\ncols = [\"AIRLINE\",\"FLIGHT_NUMBER\",\"DESTINATION_AIRPORT\",\"ORIGIN_AIRPORT\"]\nfor item in cols:\n    data[item] = data[item].astype(\"category\").cat.codes +1\n \ntrain, test, y_train, y_test = train_test_split(data.drop([\"ARRIVAL_DELAY\"], axis=1), data[\"ARRIVAL_DELAY\"],\nrandom_state=10, test_size=0.25)",
      "execution_count": 4,
      "outputs": [
        {
          "output_type": "stream",
          "text": "/opt/conda/lib/python3.6/site-packages/IPython/core/interactiveshell.py:2785: DtypeWarning: Columns (7,8) have mixed types. Specify dtype option on import or set low_memory=False.\n  interactivity=interactivity, compiler=compiler, result=result)\n",
          "name": "stderr"
        }
      ]
    },
    {
      "metadata": {
        "trusted": true,
        "_uuid": "b3413a1d8279e85998dbefc71e96d33a8ce68a59"
      },
      "cell_type": "code",
      "source": "import xgboost as xgb\nfrom sklearn import metrics\n\ndef auc(m, train, test): \n    return (metrics.roc_auc_score(y_train,m.predict_proba(train)[:,1]),\n                            metrics.roc_auc_score(y_test,m.predict_proba(test)[:,1]))\n\n# Parameter Tuning\nmodel = xgb.XGBClassifier()\nparam_dist = {\"max_depth\": [10],\n              \"min_child_weight\" : [1,3,6],\n              \"n_estimators\": [200],\n              \"learning_rate\": [0.05, 0.1,0.16],}\ngrid_search = GridSearchCV(model, param_grid=param_dist, cv = 3, \n                                   verbose=10, n_jobs=-1)\ngrid_search.fit(train, y_train)\n\ngrid_search.best_estimator_\n\nmodel = xgb.XGBClassifier(max_depth=7, min_child_weight=1,  n_estimators=200,\n                          n_jobs=-1 , verbose=1,learning_rate=0.16)\nmodel.fit(train,y_train)\n\nauc(model, train, test)",
      "execution_count": 5,
      "outputs": [
        {
          "output_type": "stream",
          "text": "Fitting 3 folds for each of 9 candidates, totalling 27 fits\n",
          "name": "stdout"
        },
        {
          "output_type": "stream",
          "text": "[Parallel(n_jobs=-1)]: Using backend LokyBackend with 4 concurrent workers.\n[Parallel(n_jobs=-1)]: Done   5 tasks      | elapsed:  6.9min\n[Parallel(n_jobs=-1)]: Done  10 tasks      | elapsed: 10.2min\n[Parallel(n_jobs=-1)]: Done  17 tasks      | elapsed: 16.4min\n[Parallel(n_jobs=-1)]: Done  23 out of  27 | elapsed: 19.9min remaining:  3.5min\n[Parallel(n_jobs=-1)]: Done  27 out of  27 | elapsed: 22.7min finished\n",
          "name": "stderr"
        },
        {
          "output_type": "execute_result",
          "execution_count": 5,
          "data": {
            "text/plain": "(0.8073006385510831, 0.7585950899263778)"
          },
          "metadata": {}
        }
      ]
    },
    {
      "metadata": {
        "trusted": true,
        "_uuid": "74d7f7b4afb45f718565d01253a69916bb798766"
      },
      "cell_type": "code",
      "source": "import lightgbm as lgb\nfrom sklearn import metrics\n\ndef auc2(m, train, test): \n    return (metrics.roc_auc_score(y_train,m.predict(train)),\n                            metrics.roc_auc_score(y_test,m.predict(test)))\n\n# lg = lgb.LGBMClassifier(silent=False)\n# param_dist = {\"max_depth\": [4],\n#               \"learning_rate\" : [0.1],\n#               \"num_leaves\": [300,900],\n#               \"n_estimators\": [100]\n#              }\n# grid_search = GridSearchCV(lg, n_jobs=-1, param_grid=param_dist, cv = 3, scoring=\"roc_auc\", verbose=5)\n# grid_search.fit(train,y_train)\n# grid_search.best_estimator_\n\nd_train = lgb.Dataset(train, label=y_train)\nparams = {\"max_depth\": 7, \"learning_rate\" : 0.1, \"num_leaves\": 900,  \"n_estimators\": 200}\n\n# Without Categorical Features\nmodel2 = lgb.train(params, d_train)\nauc2(model2, train, test)\n\n# #With Catgeorical Features\n# cate_features_name = [\"MONTH\",\"DAY\",\"DAY_OF_WEEK\",\"AIRLINE\",\"DESTINATION_AIRPORT\",\n#                  \"ORIGIN_AIRPORT\"]\n# model2 = lgb.train(params, d_train, categorical_feature = cate_features_name)\n# auc2(model2, train, test)",
      "execution_count": 8,
      "outputs": [
        {
          "output_type": "stream",
          "text": "/opt/conda/lib/python3.6/site-packages/lightgbm/engine.py:113: UserWarning: Found `n_estimators` in params. Will use it instead of argument\n  warnings.warn(\"Found `{}` in params. Will use it instead of argument\".format(alias))\n",
          "name": "stderr"
        },
        {
          "output_type": "execute_result",
          "execution_count": 8,
          "data": {
            "text/plain": "(0.7879701276144686, 0.7535978962749439)"
          },
          "metadata": {}
        }
      ]
    },
    {
      "metadata": {
        "trusted": true,
        "_uuid": "45374074abdcac6a2268118230f14b798c8b0431"
      },
      "cell_type": "code",
      "source": "import catboost as cb\ncat_features_index = [0,1,2,3,4,5,6]\n\ndef auc(m, train, test): \n    return (metrics.roc_auc_score(y_train,m.predict_proba(train)[:,1]),\n                            metrics.roc_auc_score(y_test,m.predict_proba(test)[:,1]))\n\n# params = {'depth': [4],\n#           'learning_rate' : [0.1],\n#          'l2_leaf_reg': [1,4,9],\n#          'iterations': [100]}\n# cb = cb.CatBoostClassifier()\n# cb_model = GridSearchCV(cb, params, scoring=\"roc_auc\", cv = 3)\n# cb_model.fit(train, y_train)\n\nprint(\"With Categorical features\")\nclf = cb.CatBoostClassifier(eval_metric=\"AUC\", depth=7, iterations= 200, l2_leaf_reg= 9, learning_rate= 0.15)\nclf.fit(train,y_train)\nauc(clf, train, test)\n# print(\"With Categorical features\")\n# clf = cb.CatBoostClassifier(eval_metric=\"AUC\",one_hot_max_size=31, \\\n#                             depth=7, iterations= 100, l2_leaf_reg= 9, learning_rate= 0.15)\n# clf.fit(train,y_train, cat_features= cat_features_index)\n# auc(clf, train, test)",
      "execution_count": 9,
      "outputs": [
        {
          "output_type": "stream",
          "text": "With Categorical features\n0:\ttotal: 160ms\tremaining: 31.8s\n1:\ttotal: 259ms\tremaining: 25.7s\n2:\ttotal: 347ms\tremaining: 22.8s\n3:\ttotal: 451ms\tremaining: 22.1s\n4:\ttotal: 553ms\tremaining: 21.6s\n5:\ttotal: 649ms\tremaining: 21s\n6:\ttotal: 755ms\tremaining: 20.8s\n7:\ttotal: 856ms\tremaining: 20.5s\n8:\ttotal: 960ms\tremaining: 20.4s\n9:\ttotal: 1.05s\tremaining: 20s\n10:\ttotal: 1.15s\tremaining: 19.8s\n11:\ttotal: 1.25s\tremaining: 19.6s\n12:\ttotal: 1.35s\tremaining: 19.5s\n13:\ttotal: 1.45s\tremaining: 19.2s\n14:\ttotal: 1.54s\tremaining: 19.1s\n15:\ttotal: 1.64s\tremaining: 18.9s\n16:\ttotal: 1.74s\tremaining: 18.7s\n17:\ttotal: 1.83s\tremaining: 18.5s\n18:\ttotal: 1.93s\tremaining: 18.3s\n19:\ttotal: 2.02s\tremaining: 18.2s\n20:\ttotal: 2.12s\tremaining: 18.1s\n21:\ttotal: 2.21s\tremaining: 17.9s\n22:\ttotal: 2.31s\tremaining: 17.8s\n23:\ttotal: 2.4s\tremaining: 17.6s\n24:\ttotal: 2.49s\tremaining: 17.5s\n25:\ttotal: 2.59s\tremaining: 17.4s\n26:\ttotal: 2.69s\tremaining: 17.2s\n27:\ttotal: 2.78s\tremaining: 17.1s\n28:\ttotal: 2.88s\tremaining: 17s\n29:\ttotal: 2.98s\tremaining: 16.9s\n30:\ttotal: 3.08s\tremaining: 16.8s\n31:\ttotal: 3.18s\tremaining: 16.7s\n32:\ttotal: 3.28s\tremaining: 16.6s\n33:\ttotal: 3.38s\tremaining: 16.5s\n34:\ttotal: 3.49s\tremaining: 16.4s\n35:\ttotal: 3.59s\tremaining: 16.4s\n36:\ttotal: 3.72s\tremaining: 16.4s\n37:\ttotal: 3.83s\tremaining: 16.3s\n38:\ttotal: 3.94s\tremaining: 16.3s\n39:\ttotal: 4.05s\tremaining: 16.2s\n40:\ttotal: 4.18s\tremaining: 16.2s\n41:\ttotal: 4.32s\tremaining: 16.2s\n42:\ttotal: 4.43s\tremaining: 16.2s\n43:\ttotal: 4.55s\tremaining: 16.1s\n44:\ttotal: 4.67s\tremaining: 16.1s\n45:\ttotal: 4.78s\tremaining: 16s\n46:\ttotal: 4.91s\tremaining: 16s\n47:\ttotal: 5.02s\tremaining: 15.9s\n48:\ttotal: 5.14s\tremaining: 15.8s\n49:\ttotal: 5.25s\tremaining: 15.8s\n50:\ttotal: 5.37s\tremaining: 15.7s\n51:\ttotal: 5.49s\tremaining: 15.6s\n52:\ttotal: 5.6s\tremaining: 15.5s\n53:\ttotal: 5.72s\tremaining: 15.5s\n54:\ttotal: 5.84s\tremaining: 15.4s\n55:\ttotal: 5.95s\tremaining: 15.3s\n56:\ttotal: 6.05s\tremaining: 15.2s\n57:\ttotal: 6.14s\tremaining: 15s\n58:\ttotal: 6.24s\tremaining: 14.9s\n59:\ttotal: 6.33s\tremaining: 14.8s\n60:\ttotal: 6.44s\tremaining: 14.7s\n61:\ttotal: 6.53s\tremaining: 14.5s\n62:\ttotal: 6.63s\tremaining: 14.4s\n63:\ttotal: 6.72s\tremaining: 14.3s\n64:\ttotal: 6.82s\tremaining: 14.2s\n65:\ttotal: 6.93s\tremaining: 14.1s\n66:\ttotal: 7.02s\tremaining: 13.9s\n67:\ttotal: 7.11s\tremaining: 13.8s\n68:\ttotal: 7.21s\tremaining: 13.7s\n69:\ttotal: 7.3s\tremaining: 13.6s\n70:\ttotal: 7.39s\tremaining: 13.4s\n71:\ttotal: 7.5s\tremaining: 13.3s\n72:\ttotal: 7.6s\tremaining: 13.2s\n73:\ttotal: 7.7s\tremaining: 13.1s\n74:\ttotal: 7.79s\tremaining: 13s\n75:\ttotal: 7.89s\tremaining: 12.9s\n76:\ttotal: 8s\tremaining: 12.8s\n77:\ttotal: 8.09s\tremaining: 12.7s\n78:\ttotal: 8.19s\tremaining: 12.5s\n79:\ttotal: 8.28s\tremaining: 12.4s\n80:\ttotal: 8.38s\tremaining: 12.3s\n81:\ttotal: 8.48s\tremaining: 12.2s\n82:\ttotal: 8.59s\tremaining: 12.1s\n83:\ttotal: 8.68s\tremaining: 12s\n84:\ttotal: 8.78s\tremaining: 11.9s\n85:\ttotal: 8.88s\tremaining: 11.8s\n86:\ttotal: 8.97s\tremaining: 11.7s\n87:\ttotal: 9.08s\tremaining: 11.6s\n88:\ttotal: 9.18s\tremaining: 11.4s\n89:\ttotal: 9.27s\tremaining: 11.3s\n90:\ttotal: 9.37s\tremaining: 11.2s\n91:\ttotal: 9.46s\tremaining: 11.1s\n92:\ttotal: 9.56s\tremaining: 11s\n93:\ttotal: 9.65s\tremaining: 10.9s\n94:\ttotal: 9.76s\tremaining: 10.8s\n95:\ttotal: 9.86s\tremaining: 10.7s\n96:\ttotal: 9.96s\tremaining: 10.6s\n97:\ttotal: 10s\tremaining: 10.5s\n98:\ttotal: 10.1s\tremaining: 10.3s\n99:\ttotal: 10.2s\tremaining: 10.2s\n100:\ttotal: 10.3s\tremaining: 10.1s\n101:\ttotal: 10.4s\tremaining: 10s\n102:\ttotal: 10.6s\tremaining: 9.94s\n103:\ttotal: 10.7s\tremaining: 9.83s\n104:\ttotal: 10.7s\tremaining: 9.72s\n105:\ttotal: 10.8s\tremaining: 9.62s\n106:\ttotal: 11s\tremaining: 9.52s\n107:\ttotal: 11s\tremaining: 9.41s\n108:\ttotal: 11.1s\tremaining: 9.31s\n109:\ttotal: 11.2s\tremaining: 9.2s\n110:\ttotal: 11.3s\tremaining: 9.1s\n111:\ttotal: 11.4s\tremaining: 8.99s\n112:\ttotal: 11.5s\tremaining: 8.88s\n113:\ttotal: 11.6s\tremaining: 8.78s\n114:\ttotal: 11.7s\tremaining: 8.67s\n115:\ttotal: 11.8s\tremaining: 8.56s\n116:\ttotal: 11.9s\tremaining: 8.46s\n117:\ttotal: 12s\tremaining: 8.36s\n118:\ttotal: 12.1s\tremaining: 8.26s\n119:\ttotal: 12.2s\tremaining: 8.16s\n120:\ttotal: 12.3s\tremaining: 8.05s\n121:\ttotal: 12.4s\tremaining: 7.95s\n122:\ttotal: 12.5s\tremaining: 7.84s\n123:\ttotal: 12.6s\tremaining: 7.74s\n124:\ttotal: 12.7s\tremaining: 7.64s\n125:\ttotal: 12.8s\tremaining: 7.53s\n126:\ttotal: 12.9s\tremaining: 7.43s\n127:\ttotal: 13s\tremaining: 7.33s\n128:\ttotal: 13.1s\tremaining: 7.22s\n129:\ttotal: 13.2s\tremaining: 7.12s\n130:\ttotal: 13.3s\tremaining: 7.01s\n131:\ttotal: 13.4s\tremaining: 6.91s\n132:\ttotal: 13.5s\tremaining: 6.8s\n133:\ttotal: 13.6s\tremaining: 6.7s\n134:\ttotal: 13.7s\tremaining: 6.6s\n135:\ttotal: 13.8s\tremaining: 6.5s\n136:\ttotal: 13.9s\tremaining: 6.4s\n137:\ttotal: 14s\tremaining: 6.3s\n138:\ttotal: 14.1s\tremaining: 6.19s\n139:\ttotal: 14.2s\tremaining: 6.08s\n140:\ttotal: 14.3s\tremaining: 5.98s\n141:\ttotal: 14.4s\tremaining: 5.88s\n142:\ttotal: 14.5s\tremaining: 5.77s\n143:\ttotal: 14.6s\tremaining: 5.67s\n144:\ttotal: 14.7s\tremaining: 5.56s\n145:\ttotal: 14.8s\tremaining: 5.46s\n146:\ttotal: 14.9s\tremaining: 5.36s\n147:\ttotal: 14.9s\tremaining: 5.25s\n148:\ttotal: 15s\tremaining: 5.15s\n149:\ttotal: 15.1s\tremaining: 5.04s\n150:\ttotal: 15.2s\tremaining: 4.94s\n151:\ttotal: 15.3s\tremaining: 4.83s\n152:\ttotal: 15.4s\tremaining: 4.73s\n153:\ttotal: 15.5s\tremaining: 4.63s\n154:\ttotal: 15.6s\tremaining: 4.52s\n155:\ttotal: 15.7s\tremaining: 4.42s\n156:\ttotal: 15.8s\tremaining: 4.32s\n157:\ttotal: 15.9s\tremaining: 4.21s\n158:\ttotal: 16s\tremaining: 4.12s\n159:\ttotal: 16.1s\tremaining: 4.01s\n160:\ttotal: 16.1s\tremaining: 3.91s\n161:\ttotal: 16.2s\tremaining: 3.81s\n162:\ttotal: 16.3s\tremaining: 3.71s\n163:\ttotal: 16.4s\tremaining: 3.6s\n164:\ttotal: 16.5s\tremaining: 3.5s\n165:\ttotal: 16.6s\tremaining: 3.4s\n166:\ttotal: 16.7s\tremaining: 3.3s\n167:\ttotal: 16.8s\tremaining: 3.2s\n168:\ttotal: 16.9s\tremaining: 3.1s\n169:\ttotal: 17s\tremaining: 2.99s\n170:\ttotal: 17.1s\tremaining: 2.89s\n171:\ttotal: 17.1s\tremaining: 2.79s\n172:\ttotal: 17.2s\tremaining: 2.69s\n173:\ttotal: 17.3s\tremaining: 2.59s\n174:\ttotal: 17.4s\tremaining: 2.49s\n175:\ttotal: 17.5s\tremaining: 2.39s\n176:\ttotal: 17.6s\tremaining: 2.29s\n177:\ttotal: 17.7s\tremaining: 2.19s\n178:\ttotal: 17.8s\tremaining: 2.09s\n179:\ttotal: 17.9s\tremaining: 1.99s\n180:\ttotal: 18s\tremaining: 1.89s\n181:\ttotal: 18.1s\tremaining: 1.79s\n182:\ttotal: 18.1s\tremaining: 1.69s\n183:\ttotal: 18.2s\tremaining: 1.59s\n184:\ttotal: 18.3s\tremaining: 1.49s\n185:\ttotal: 18.4s\tremaining: 1.39s\n186:\ttotal: 18.5s\tremaining: 1.29s\n187:\ttotal: 18.6s\tremaining: 1.19s\n188:\ttotal: 18.7s\tremaining: 1.09s\n189:\ttotal: 18.8s\tremaining: 990ms\n190:\ttotal: 18.9s\tremaining: 890ms\n191:\ttotal: 19s\tremaining: 791ms\n192:\ttotal: 19.1s\tremaining: 692ms\n193:\ttotal: 19.2s\tremaining: 593ms\n194:\ttotal: 19.3s\tremaining: 494ms\n195:\ttotal: 19.3s\tremaining: 395ms\n196:\ttotal: 19.4s\tremaining: 296ms\n197:\ttotal: 19.5s\tremaining: 197ms\n198:\ttotal: 19.6s\tremaining: 98.6ms\n199:\ttotal: 19.7s\tremaining: 0us\n",
          "name": "stdout"
        },
        {
          "output_type": "execute_result",
          "execution_count": 9,
          "data": {
            "text/plain": "(0.7451022141205017, 0.73456850844974)"
          },
          "metadata": {}
        }
      ]
    },
    {
      "metadata": {
        "trusted": true,
        "_uuid": "549b8dd13a2a2a190419ea344942e8aef3344643"
      },
      "cell_type": "code",
      "source": "",
      "execution_count": null,
      "outputs": []
    }
  ],
  "metadata": {
    "kernelspec": {
      "display_name": "Python 3",
      "language": "python",
      "name": "python3"
    },
    "language_info": {
      "name": "python",
      "version": "3.6.6",
      "mimetype": "text/x-python",
      "codemirror_mode": {
        "name": "ipython",
        "version": 3
      },
      "pygments_lexer": "ipython3",
      "nbconvert_exporter": "python",
      "file_extension": ".py"
    }
  },
  "nbformat": 4,
  "nbformat_minor": 1
}